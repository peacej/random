{
 "cells": [
  {
   "cell_type": "code",
   "execution_count": 1,
   "id": "1a5fb46e-d92d-49be-beb5-940aab83e308",
   "metadata": {},
   "outputs": [],
   "source": [
    "a = 2"
   ]
  },
  {
   "cell_type": "code",
   "execution_count": 2,
   "id": "01b46d2c-4cc9-4ec1-a479-a18056d0bd87",
   "metadata": {},
   "outputs": [],
   "source": [
    "m = \"attack at dawn\""
   ]
  },
  {
   "cell_type": "code",
   "execution_count": 76,
   "id": "8b428fca-492b-4fab-bc61-f888c74e956e",
   "metadata": {},
   "outputs": [],
   "source": [
    "c_hex = \"09e1c5f70a65ac519458e7e53f36\""
   ]
  },
  {
   "cell_type": "code",
   "execution_count": 112,
   "id": "e56a9a43-b9dc-42f7-a445-950d338b08ca",
   "metadata": {},
   "outputs": [
    {
     "data": {
      "text/plain": [
       "28"
      ]
     },
     "execution_count": 112,
     "metadata": {},
     "output_type": "execute_result"
    }
   ],
   "source": [
    "len(c_hex)"
   ]
  },
  {
   "cell_type": "code",
   "execution_count": 113,
   "id": "c10bca25-bc11-4ee6-815d-1c9c345b64b2",
   "metadata": {},
   "outputs": [],
   "source": [
    "def text2bin(x):\n",
    "    res = []\n",
    "    for c in x:\n",
    "        res.append(bin(ord(c))[2:].zfill(8))\n",
    "    return ''.join(res)"
   ]
  },
  {
   "cell_type": "code",
   "execution_count": 114,
   "id": "3c1d89f8-46a2-4a12-9403-7540f29955af",
   "metadata": {},
   "outputs": [
    {
     "data": {
      "text/plain": [
       "'0110000101110100011101000110000101100011011010110010000001100001011101000010000001100100011000010111011101101110'"
      ]
     },
     "execution_count": 114,
     "metadata": {},
     "output_type": "execute_result"
    }
   ],
   "source": [
    "m_bin = text2bin(m); m_bin"
   ]
  },
  {
   "cell_type": "code",
   "execution_count": 115,
   "id": "7e51bc2d-db11-49c3-9db1-ec94bb23297a",
   "metadata": {},
   "outputs": [
    {
     "data": {
      "text/plain": [
       "112"
      ]
     },
     "execution_count": 115,
     "metadata": {},
     "output_type": "execute_result"
    }
   ],
   "source": [
    "len(m_bin)"
   ]
  },
  {
   "cell_type": "code",
   "execution_count": 116,
   "id": "df4381d7-f071-423a-9115-83a26117a219",
   "metadata": {},
   "outputs": [
    {
     "data": {
      "text/plain": [
       "112"
      ]
     },
     "execution_count": 116,
     "metadata": {},
     "output_type": "execute_result"
    }
   ],
   "source": [
    "28*4"
   ]
  },
  {
   "cell_type": "code",
   "execution_count": 79,
   "id": "8bbe2a1c-1e16-4d80-8ced-929e4c379049",
   "metadata": {},
   "outputs": [
    {
     "data": {
      "text/plain": [
       "1976620216402300889624482718775150"
      ]
     },
     "execution_count": 79,
     "metadata": {},
     "output_type": "execute_result"
    }
   ],
   "source": [
    "int(m_bin, 2)"
   ]
  },
  {
   "cell_type": "code",
   "execution_count": 108,
   "id": "1379ed7c-6085-4e7c-981b-5ecbe6441d84",
   "metadata": {},
   "outputs": [],
   "source": [
    "def bin2hex(bs):\n",
    "    res = f'{int(bs, 2):X}'.lower()\n",
    "    if len(res) % 2 == 1:\n",
    "        res = '0' + res\n",
    "    assert len(bs) == len(res) * 4\n",
    "    return res"
   ]
  },
  {
   "cell_type": "code",
   "execution_count": 109,
   "id": "e078311e-3c15-4ddb-9f2a-8552227d52c2",
   "metadata": {},
   "outputs": [
    {
     "name": "stdout",
     "output_type": "stream",
     "text": [
      "112\n",
      "28\n"
     ]
    },
    {
     "data": {
      "text/plain": [
       "'61747461636b206174206461776e'"
      ]
     },
     "execution_count": 109,
     "metadata": {},
     "output_type": "execute_result"
    }
   ],
   "source": [
    "bin2hex(m_bin)"
   ]
  },
  {
   "cell_type": "code",
   "execution_count": 96,
   "id": "d048bc9d-82c9-4cc4-b73f-4f436f9a085b",
   "metadata": {},
   "outputs": [],
   "source": [
    "def hex2bin(x, num_of_bits):\n",
    "    scale = 16 ## equals to hexadecimal\n",
    "    return bin(int(str(x), scale))[2:].zfill(num_of_bits)"
   ]
  },
  {
   "cell_type": "code",
   "execution_count": 97,
   "id": "452ddd69-65d5-40dc-b1c4-37db158283c7",
   "metadata": {},
   "outputs": [],
   "source": [
    "c_hex_bin = hex2bin(c_hex, 8*len(m))"
   ]
  },
  {
   "cell_type": "code",
   "execution_count": 98,
   "id": "d130fcd5-2132-4156-a481-8314dcdbee6a",
   "metadata": {},
   "outputs": [
    {
     "data": {
      "text/plain": [
       "'0000100111100001110001011111011100001010011001011010110001010001100101000101100011100111111001010011111100110110'"
      ]
     },
     "execution_count": 98,
     "metadata": {},
     "output_type": "execute_result"
    }
   ],
   "source": [
    "hex_bin"
   ]
  },
  {
   "cell_type": "code",
   "execution_count": 99,
   "id": "0e456ebb-3b39-4980-8b95-332f3d1fcacd",
   "metadata": {},
   "outputs": [
    {
     "data": {
      "text/plain": [
       "(112, 112)"
      ]
     },
     "execution_count": 99,
     "metadata": {},
     "output_type": "execute_result"
    }
   ],
   "source": [
    "len(c_hex_bin), len(m_bin)"
   ]
  },
  {
   "cell_type": "code",
   "execution_count": 123,
   "id": "aa0d7fba-51e7-4c56-99db-2a9cfb1aaa80",
   "metadata": {},
   "outputs": [],
   "source": [
    "def xor(a,b):\n",
    "    y = int(a,2) ^ int(b,2)\n",
    "    return '{0:b}'.format(y).zfill(len(a))\n"
   ]
  },
  {
   "cell_type": "code",
   "execution_count": 124,
   "id": "9f78fa99-a87d-4cf5-9c05-4e2725da505d",
   "metadata": {},
   "outputs": [
    {
     "data": {
      "text/plain": [
       "'0110100010010101101100011001011001101001000011101000110000110000111000000111100010000011100001000100100001011000'"
      ]
     },
     "execution_count": 124,
     "metadata": {},
     "output_type": "execute_result"
    }
   ],
   "source": [
    "k = xor(c_hex_bin, m_bin); k"
   ]
  },
  {
   "cell_type": "code",
   "execution_count": 125,
   "id": "355e72af-6e6a-4ac0-8bc1-b0f36530f49c",
   "metadata": {},
   "outputs": [
    {
     "data": {
      "text/plain": [
       "112"
      ]
     },
     "execution_count": 125,
     "metadata": {},
     "output_type": "execute_result"
    }
   ],
   "source": [
    "len(k)"
   ]
  },
  {
   "cell_type": "code",
   "execution_count": 102,
   "id": "c7b4f398-8239-4d6c-9dda-26c9bf13b76b",
   "metadata": {},
   "outputs": [],
   "source": [
    "m2 = 'attack at dusk'"
   ]
  },
  {
   "cell_type": "code",
   "execution_count": 117,
   "id": "bcb811b9-110a-4a21-a7db-054bce1ca247",
   "metadata": {},
   "outputs": [
    {
     "data": {
      "text/plain": [
       "'0110000101110100011101000110000101100011011010110010000001100001011101000010000001100100011101010111001101101011'"
      ]
     },
     "execution_count": 117,
     "metadata": {},
     "output_type": "execute_result"
    }
   ],
   "source": [
    "m2_bin = text2bin(m2); m2_bin"
   ]
  },
  {
   "cell_type": "code",
   "execution_count": 119,
   "id": "b219d455-de1d-4093-8b56-24583ce862ef",
   "metadata": {},
   "outputs": [
    {
     "data": {
      "text/plain": [
       "112"
      ]
     },
     "execution_count": 119,
     "metadata": {},
     "output_type": "execute_result"
    }
   ],
   "source": [
    "len(m2_bin)"
   ]
  },
  {
   "cell_type": "code",
   "execution_count": 120,
   "id": "f421a401-beb1-41a4-ab55-c2e9c4bd2249",
   "metadata": {},
   "outputs": [
    {
     "data": {
      "text/plain": [
       "111"
      ]
     },
     "execution_count": 120,
     "metadata": {},
     "output_type": "execute_result"
    }
   ],
   "source": [
    "len(k)"
   ]
  },
  {
   "cell_type": "code",
   "execution_count": 126,
   "id": "00025181-bb70-4e0f-8cba-3984ce4cec53",
   "metadata": {},
   "outputs": [
    {
     "name": "stdout",
     "output_type": "stream",
     "text": [
      "112\n",
      "28\n"
     ]
    },
    {
     "data": {
      "text/plain": [
       "'09e1c5f70a65ac519458e7f13b33'"
      ]
     },
     "execution_count": 126,
     "metadata": {},
     "output_type": "execute_result"
    }
   ],
   "source": [
    "bin2hex(xor(m2_bin, k))"
   ]
  },
  {
   "cell_type": "code",
   "execution_count": 287,
   "id": "804aeb5e-19f6-4c78-bf40-4b9779fd9cf0",
   "metadata": {},
   "outputs": [],
   "source": [
    "def strxor(a, b):     # xor two strings of different lengths\n",
    "    if len(a) > len(b):\n",
    "       return \"\".join([chr((x) ^ (y)) for (x, y) in zip(a[:len(b)], b)])\n",
    "    else:\n",
    "       return \"\".join([chr((x) ^ (y)) for (x, y) in zip(a, b[:len(a)])])"
   ]
  },
  {
   "cell_type": "code",
   "execution_count": 205,
   "id": "f2067080-ea8a-4e75-9167-c624aee84c8f",
   "metadata": {},
   "outputs": [
    {
     "data": {
      "text/plain": [
       "'050705'"
      ]
     },
     "execution_count": 205,
     "metadata": {},
     "output_type": "execute_result"
    }
   ],
   "source": [
    "strxor('abc','def').encode('utf-8').hex()"
   ]
  },
  {
   "cell_type": "code",
   "execution_count": 195,
   "id": "18512acb-b34d-4343-8ae9-633212040f9a",
   "metadata": {},
   "outputs": [],
   "source": [
    "texts = \"\"\"                 ciphertext #1:\n",
    "\n",
    "315c4eeaa8b5f8aaf9174145bf43e1784b8fa00dc71d885a804e5ee9fa40b16349c146fb778cdf2d3aff021dfff5b403b510d0d0455468aeb98622b137dae857553ccd8883a7bc37520e06e515d22c954eba5025b8cc57ee59418ce7dc6bc41556bdb36bbca3e8774301fbcaa3b83b220809560987815f65286764703de0f3d524400a19b159610b11ef3e\n",
    "\n",
    " ciphertext #2:\n",
    "\n",
    "  234c02ecbbfbafa3ed18510abd11fa724fcda2018a1a8342cf064bbde548b12b07df44ba7191d9606ef4081ffde5ad46a5069d9f7f543bedb9c861bf29c7e205132eda9382b0bc2c5c4b45f919cf3a9f1cb74151f6d551f4480c82b2cb24cc5b028aa76eb7b4ab24171ab3cdadb8356f\n",
    "\n",
    " ciphertext #3:\n",
    "\n",
    "  32510ba9a7b2bba9b8005d43a304b5714cc0bb0c8a34884dd91304b8ad40b62b07df44ba6e9d8a2368e51d04e0e7b207b70b9b8261112bacb6c866a232dfe257527dc29398f5f3251a0d47e503c66e935de81230b59b7afb5f41afa8d661cb\n",
    "\n",
    " ciphertext #4:\n",
    "\n",
    "   32510ba9aab2a8a4fd06414fb517b5605cc0aa0dc91a8908c2064ba8ad5ea06a029056f47a8ad3306ef5021eafe1ac01a81197847a5c68a1b78769a37bc8f4575432c198ccb4ef63590256e305cd3a9544ee4160ead45aef520489e7da7d835402bca670bda8eb775200b8dabbba246b130f040d8ec6447e2c767f3d30ed81ea2e4c1404e1315a1010e7229be6636aaa\n",
    "\n",
    " ciphertext #5:\n",
    "\n",
    "   3f561ba9adb4b6ebec54424ba317b564418fac0dd35f8c08d31a1fe9e24fe56808c213f17c81d9607cee021dafe1e001b21ade877a5e68bea88d61b93ac5ee0d562e8e9582f5ef375f0a4ae20ed86e935de81230b59b73fb4302cd95d770c65b40aaa065f2a5e33a5a0bb5dcaba43722130f042f8ec85b7c2070\n",
    "\n",
    " ciphertext #6:\n",
    "\n",
    "    32510bfbacfbb9befd54415da243e1695ecabd58c519cd4bd2061bbde24eb76a19d84aba34d8de287be84d07e7e9a30ee714979c7e1123a8bd9822a33ecaf512472e8e8f8db3f9635c1949e640c621854eba0d79eccf52ff111284b4cc61d11902aebc66f2b2e436434eacc0aba938220b084800c2ca4e693522643573b2c4ce35050b0cf774201f0fe52ac9f26d71b6cf61a711cc229f77ace7aa88a2f19983122b11be87a59c355d25f8e4\n",
    "\n",
    " ciphertext #7:\n",
    "\n",
    "  32510bfbacfbb9befd54415da243e1695ecabd58c519cd4bd90f1fa6ea5ba47b01c909ba7696cf606ef40c04afe1ac0aa8148dd066592ded9f8774b529c7ea125d298e8883f5e9305f4b44f915cb2bd05af51373fd9b4af511039fa2d96f83414aaaf261bda2e97b170fb5cce2a53e675c154c0d9681596934777e2275b381ce2e40582afe67650b13e72287ff2270abcf73bb028932836fbdecfecee0a3b894473c1bbeb6b4913a536ce4f9b13f1efff71ea313c8661dd9a4ce\n",
    "\n",
    " ciphertext #8:\n",
    "\n",
    "   315c4eeaa8b5f8bffd11155ea506b56041c6a00c8a08854dd21a4bbde54ce56801d943ba708b8a3574f40c00fff9e00fa1439fd0654327a3bfc860b92f89ee04132ecb9298f5fd2d5e4b45e40ecc3b9d59e9417df7c95bba410e9aa2ca24c5474da2f276baa3ac325918b2daada43d6712150441c2e04f6565517f317da9d3\n",
    "\n",
    " ciphertext #9:\n",
    "\n",
    "  271946f9bbb2aeadec111841a81abc300ecaa01bd8069d5cc91005e9fe4aad6e04d513e96d99de2569bc5e50eeeca709b50a8a987f4264edb6896fb537d0a716132ddc938fb0f836480e06ed0fcd6e9759f40462f9cf57f4564186a2c1778f1543efa270bda5e933421cbe88a4a52222190f471e9bd15f652b653b7071aec59a2705081ffe72651d08f822c9ed6d76e48b63ab15d0208573a7eef027\n",
    "\n",
    " ciphertext #10:\n",
    "\n",
    "   466d06ece998b7a2fb1d464fed2ced7641ddaa3cc31c9941cf110abbf409ed39598005b3399ccfafb61d0315fca0a314be138a9f32503bedac8067f03adbf3575c3b8edc9ba7f537530541ab0f9f3cd04ff50d66f1d559ba520e89a2cb2a83\n",
    "\n",
    "target ciphertext (decrypt this one): \n",
    "\n",
    "32510ba9babebbbefd001547a810e67149caee11d945cd7fc81a05e9f85aac650e9052ba6a8cd8257bf14d13e6f0a803b54fde9e77472dbff89d71b57bddef121336cb85ccb8f3315f4b52e301d16e9f52f904\n",
    "\"\"\""
   ]
  },
  {
   "cell_type": "code",
   "execution_count": 198,
   "id": "98cbacf9-48ae-4043-bb76-019d49b5ebf9",
   "metadata": {},
   "outputs": [],
   "source": [
    "texts2 = [x for x in texts.split() if len(x)>50]"
   ]
  },
  {
   "cell_type": "code",
   "execution_count": 200,
   "id": "1f26d33d-1b42-4ce3-aba0-66f4c3904e66",
   "metadata": {},
   "outputs": [],
   "source": [
    "target = texts2[-1]"
   ]
  },
  {
   "cell_type": "code",
   "execution_count": 233,
   "id": "df12ef51-0ea0-4133-95dd-ace83766cdfd",
   "metadata": {},
   "outputs": [],
   "source": [
    "import codecs\n",
    "\n",
    "decode_hex = codecs.getdecoder(\"hex_codec\")\n"
   ]
  },
  {
   "cell_type": "code",
   "execution_count": 244,
   "id": "8f723930-8667-4142-8d21-c2ab490fee61",
   "metadata": {},
   "outputs": [
    {
     "ename": "UnicodeDecodeError",
     "evalue": "'utf-8' codec can't decode byte 0xa9 in position 3: invalid start byte",
     "output_type": "error",
     "traceback": [
      "\u001b[0;31m---------------------------------------------------------------------------\u001b[0m",
      "\u001b[0;31mUnicodeDecodeError\u001b[0m                        Traceback (most recent call last)",
      "\u001b[0;32m/var/folders/xp/nm3gzbb52537hxpw_626nh240000gp/T/ipykernel_9316/3548190036.py\u001b[0m in \u001b[0;36m<module>\u001b[0;34m\u001b[0m\n\u001b[0;32m----> 1\u001b[0;31m \u001b[0mdecode_hex\u001b[0m\u001b[0;34m(\u001b[0m\u001b[0mtarget\u001b[0m\u001b[0;34m)\u001b[0m\u001b[0;34m[\u001b[0m\u001b[0;36m0\u001b[0m\u001b[0;34m]\u001b[0m\u001b[0;34m.\u001b[0m\u001b[0mdecode\u001b[0m\u001b[0;34m(\u001b[0m\u001b[0;34m'utf-8'\u001b[0m\u001b[0;34m)\u001b[0m\u001b[0;34m\u001b[0m\u001b[0;34m\u001b[0m\u001b[0m\n\u001b[0m",
      "\u001b[0;31mUnicodeDecodeError\u001b[0m: 'utf-8' codec can't decode byte 0xa9 in position 3: invalid start byte"
     ]
    }
   ],
   "source": []
  },
  {
   "cell_type": "code",
   "execution_count": 249,
   "id": "35d9f917-7520-407c-9bb6-eb19234e1874",
   "metadata": {},
   "outputs": [
    {
     "ename": "TypeError",
     "evalue": "ord() expected a character, but string of length 3 found",
     "output_type": "error",
     "traceback": [
      "\u001b[0;31m---------------------------------------------------------------------------\u001b[0m",
      "\u001b[0;31mTypeError\u001b[0m                                 Traceback (most recent call last)",
      "\u001b[0;32m/var/folders/xp/nm3gzbb52537hxpw_626nh240000gp/T/ipykernel_9316/2303982856.py\u001b[0m in \u001b[0;36m<module>\u001b[0;34m\u001b[0m\n\u001b[0;32m----> 1\u001b[0;31m \u001b[0mord\u001b[0m\u001b[0;34m(\u001b[0m\u001b[0;34m'134'\u001b[0m\u001b[0;34m)\u001b[0m\u001b[0;34m\u001b[0m\u001b[0;34m\u001b[0m\u001b[0m\n\u001b[0m",
      "\u001b[0;31mTypeError\u001b[0m: ord() expected a character, but string of length 3 found"
     ]
    }
   ],
   "source": []
  },
  {
   "cell_type": "code",
   "execution_count": 251,
   "id": "700cac49-bf1e-4d9b-b2ab-490d11fbfa53",
   "metadata": {},
   "outputs": [
    {
     "data": {
      "text/plain": [
       "b'2Q\\x0b\\xa9\\xba\\xbe\\xbb\\xbe\\xfd\\x00\\x15G\\xa8\\x10\\xe6qI\\xca\\xee\\x11\\xd9E\\xcd\\x7f\\xc8\\x1a\\x05\\xe9\\xf8Z\\xace\\x0e\\x90R\\xbaj\\x8c\\xd8%{\\xf1M\\x13\\xe6\\xf0\\xa8\\x03\\xb5O\\xde\\x9ewG-\\xbf\\xf8\\x9dq\\xb5{\\xdd\\xef\\x12\\x136\\xcb\\x85\\xcc\\xb8\\xf31_KR\\xe3\\x01\\xd1n\\x9fR\\xf9\\x04'"
      ]
     },
     "execution_count": 251,
     "metadata": {},
     "output_type": "execute_result"
    }
   ],
   "source": [
    "bytes.fromhex(target)"
   ]
  },
  {
   "cell_type": "code",
   "execution_count": 259,
   "id": "3339fff4-0cc9-4d97-bdcb-5a19201d9482",
   "metadata": {},
   "outputs": [
    {
     "data": {
      "text/plain": [
       "83"
      ]
     },
     "execution_count": 259,
     "metadata": {},
     "output_type": "execute_result"
    }
   ],
   "source": [
    "int(len(target)/2)"
   ]
  },
  {
   "cell_type": "code",
   "execution_count": 264,
   "id": "0cd8ac73-e09f-4dd3-aa8a-4d149ec1001a",
   "metadata": {},
   "outputs": [
    {
     "data": {
      "text/plain": [
       "'32510ba9babebbbefd001547a810e67149caee11d945cd7fc81a05e9f85aac650e9052ba6a8cd8257bf14d13e6f0a803b54fde9e77472dbff89d71b57bddef121336cb85ccb8f3315f4b52e301d16e9f52f904'"
      ]
     },
     "execution_count": 264,
     "metadata": {},
     "output_type": "execute_result"
    }
   ],
   "source": [
    "target"
   ]
  },
  {
   "cell_type": "code",
   "execution_count": 267,
   "id": "4dea5e57-4201-4101-a9f4-8781ba22d84d",
   "metadata": {},
   "outputs": [
    {
     "data": {
      "text/plain": [
       "'315c4eeaa8b5f8aaf9174145bf43e1784b8fa00dc71d885a804e5ee9fa40b16349c146fb778cdf2d3aff021dfff5b403b510d0d0455468aeb98622b137dae857553ccd8883a7bc37520e06e515d22c954eba5025b8cc57ee59418ce7dc6bc41556bdb36bbca3e8774301fbcaa3b83b220809560987815f65286764703de0f3d524400a19b159610b11ef3e'"
      ]
     },
     "execution_count": 267,
     "metadata": {},
     "output_type": "execute_result"
    }
   ],
   "source": [
    "texts2[0]"
   ]
  },
  {
   "cell_type": "code",
   "execution_count": 288,
   "id": "281f5143-c5a3-4268-baa0-b76869e6a174",
   "metadata": {},
   "outputs": [],
   "source": [
    "xored = strxor(bytes.fromhex(target), bytes.fromhex(texts2[0]))"
   ]
  },
  {
   "cell_type": "code",
   "execution_count": 289,
   "id": "1c62dcef-31e2-4b40-9c68-6d0ceaf48a7a",
   "metadata": {},
   "outputs": [
    {
     "data": {
      "text/plain": [
       "'\\x03\\rEC\\x12\\x0bC\\x14\\x04\\x17T\\x02\\x17S\\x07\\t\\x02EN\\x1c\\x1eXE%HT[\\x00\\x02\\x1a\\x1d\\x06GQ\\x14A\\x1d\\x00\\x07\\x08A\\x0eO\\x0e\\x19\\x05\\x1c\\x00\\x00_\\x0eN2\\x13E\\x11A\\x1bS\\x04L\\x07\\x07EF\\n\\x06\\rO\\x1fO\\x06\\rET\\x06\\x14\\x03B\\n\\x1cCT'"
      ]
     },
     "execution_count": 289,
     "metadata": {},
     "output_type": "execute_result"
    }
   ],
   "source": [
    "xored"
   ]
  },
  {
   "cell_type": "code",
   "execution_count": 279,
   "id": "8b7fd846-6fbc-455d-882b-9f919d2766c1",
   "metadata": {},
   "outputs": [
    {
     "data": {
      "text/plain": [
       "166"
      ]
     },
     "execution_count": 279,
     "metadata": {},
     "output_type": "execute_result"
    }
   ],
   "source": [
    "len(xored)"
   ]
  },
  {
   "cell_type": "code",
   "execution_count": 281,
   "id": "113ef937-a18d-46bd-83ec-5dfb75a41b93",
   "metadata": {},
   "outputs": [
    {
     "data": {
      "text/plain": [
       "'32510ba9babebbbefd001547a810e67149caee11d945cd7fc81a05e9f85aac650e9052ba6a8cd8257bf14d13e6f0a803b54fde9e77472dbff89d71b57bddef121336cb85ccb8f3315f4b52e301d16e9f52f904'"
      ]
     },
     "execution_count": 281,
     "metadata": {},
     "output_type": "execute_result"
    }
   ],
   "source": [
    "target"
   ]
  },
  {
   "cell_type": "code",
   "execution_count": 283,
   "id": "8ad8d80b-6f78-4010-9f04-024313f96c01",
   "metadata": {},
   "outputs": [
    {
     "data": {
      "text/plain": [
       "b'2Q\\x0b\\xa9\\xba\\xbe\\xbb\\xbe\\xfd\\x00\\x15G\\xa8\\x10\\xe6qI\\xca\\xee\\x11\\xd9E\\xcd\\x7f\\xc8\\x1a\\x05\\xe9\\xf8Z\\xace\\x0e\\x90R\\xbaj\\x8c\\xd8%{\\xf1M\\x13\\xe6\\xf0\\xa8\\x03\\xb5O\\xde\\x9ewG-\\xbf\\xf8\\x9dq\\xb5{\\xdd\\xef\\x12\\x136\\xcb\\x85\\xcc\\xb8\\xf31_KR\\xe3\\x01\\xd1n\\x9fR\\xf9\\x04'"
      ]
     },
     "execution_count": 283,
     "metadata": {},
     "output_type": "execute_result"
    }
   ],
   "source": [
    "target_bytes = bytes.fromhex(target); target_bytes"
   ]
  },
  {
   "cell_type": "code",
   "execution_count": 284,
   "id": "e88137b4-0cd9-49c2-b84f-80e8bdfadb52",
   "metadata": {},
   "outputs": [
    {
     "data": {
      "text/plain": [
       "83"
      ]
     },
     "execution_count": 284,
     "metadata": {},
     "output_type": "execute_result"
    }
   ],
   "source": [
    "len(target_bytes)"
   ]
  },
  {
   "cell_type": "code",
   "execution_count": null,
   "id": "22d86608-e4ce-4d6a-b657-8cae6bb86060",
   "metadata": {},
   "outputs": [],
   "source": []
  },
  {
   "cell_type": "code",
   "execution_count": 292,
   "id": "ee995832-f879-4f13-8294-8c7a1ff79478",
   "metadata": {},
   "outputs": [
    {
     "data": {
      "text/plain": [
       "b'2Q\\x0b\\xa9\\xba\\xbe\\xbb\\xbe\\xfd\\x00\\x15G\\xa8\\x10\\xe6qI\\xca\\xee\\x11\\xd9E\\xcd\\x7f\\xc8\\x1a\\x05\\xe9\\xf8Z\\xace\\x0e\\x90R\\xbaj\\x8c\\xd8%{\\xf1M\\x13\\xe6\\xf0\\xa8\\x03\\xb5O\\xde\\x9ewG-\\xbf\\xf8\\x9dq\\xb5{\\xdd\\xef\\x12\\x136\\xcb\\x85\\xcc\\xb8\\xf31_KR\\xe3\\x01\\xd1n\\x9fR\\xf9\\x04'"
      ]
     },
     "execution_count": 292,
     "metadata": {},
     "output_type": "execute_result"
    }
   ],
   "source": [
    "bytes.fromhex(texts2[-1])"
   ]
  },
  {
   "cell_type": "code",
   "execution_count": 330,
   "id": "1ce0415e-1b66-439c-a53a-3f72a7de67f9",
   "metadata": {},
   "outputs": [],
   "source": [
    "def is_space(text_char, index):\n",
    "    for text in texts2:\n",
    "        xored = chr(text_char ^ bytes.fromhex(text)[index])\n",
    "        if not (xored.isalpha() or xored in ('\\x00', '\\x0c','\\x1a')):\n",
    "            return False\n",
    "    return True"
   ]
  },
  {
   "cell_type": "code",
   "execution_count": 317,
   "id": "244a7737-709d-4f3d-9441-f8a9f92864e3",
   "metadata": {},
   "outputs": [],
   "source": [
    "a = 234 ^ 123"
   ]
  },
  {
   "cell_type": "code",
   "execution_count": 318,
   "id": "7bb1304a-f571-40da-852d-832f92fe609c",
   "metadata": {},
   "outputs": [
    {
     "data": {
      "text/plain": [
       "145"
      ]
     },
     "execution_count": 318,
     "metadata": {},
     "output_type": "execute_result"
    }
   ],
   "source": [
    "a"
   ]
  },
  {
   "cell_type": "code",
   "execution_count": 319,
   "id": "e7bd810f-d6d7-40f8-bfa5-24c5b58848ba",
   "metadata": {},
   "outputs": [
    {
     "data": {
      "text/plain": [
       "'\\x91'"
      ]
     },
     "execution_count": 319,
     "metadata": {},
     "output_type": "execute_result"
    }
   ],
   "source": [
    "chr(a)"
   ]
  },
  {
   "cell_type": "code",
   "execution_count": 309,
   "id": "2a582ee7-1177-4347-952b-f28ff2157a2e",
   "metadata": {},
   "outputs": [
    {
     "data": {
      "text/plain": [
       "True"
      ]
     },
     "execution_count": 309,
     "metadata": {},
     "output_type": "execute_result"
    }
   ],
   "source": [
    "strxor(bytes.fromhex('a9'),bytes.fromhex('a9')) == '\\x00'"
   ]
  },
  {
   "cell_type": "code",
   "execution_count": 311,
   "id": "487375d5-50f0-4adb-9a65-55f9dadbd621",
   "metadata": {},
   "outputs": [],
   "source": [
    "SPACE = ord('_')"
   ]
  },
  {
   "cell_type": "code",
   "execution_count": 339,
   "id": "026cbe08-3248-4d5b-9287-e6e5805317d0",
   "metadata": {},
   "outputs": [],
   "source": [
    "assert len(target) % 2 == 0\n",
    "res = ['_'] * int(len(target)/2)\n",
    "for text in texts2[:-1]:\n",
    "    text_bytes = bytes.fromhex(text)\n",
    "    assert len(xored) == len(target_bytes) == int(len(target)/2)\n",
    "    xored = strxor(target_bytes, text_bytes)\n",
    "    for xor_char, target_char, text_char, index in zip(xored, target_bytes, text_bytes, range(int(len(target)/2))):\n",
    "        if is_space(text_char, index):\n",
    "            if xor_char == '\\x00':\n",
    "                res[index] = ' '\n",
    "            elif xor_char.islower():\n",
    "                res[index] = xor_char.upper()\n",
    "            elif xor_char.isupper():\n",
    "                res[index] = xor_char.lower()\n",
    "            elif xor_char == '\\x0c':\n",
    "                res[index] = ','\n",
    "            elif xor_char == '\\x1a':\n",
    "                res[index] = ':'\n",
    "    for xor_char, target_char, text_char, index in zip(xored, target_bytes, text_bytes, range(int(len(target)/2))):\n",
    "        if res[index] == '_':\n",
    "            if xor_char.isalpha():\n",
    "                res[index] = xor_char.lower()"
   ]
  },
  {
   "cell_type": "code",
   "execution_count": 340,
   "id": "23a56521-5a2c-4626-99cc-eb7873706cd1",
   "metadata": {},
   "outputs": [
    {
     "data": {
      "text/plain": [
       "'The secuettmessagenis: Whtn usingqaastreamocipher,cneverause the key more than onct'"
      ]
     },
     "execution_count": 340,
     "metadata": {},
     "output_type": "execute_result"
    }
   ],
   "source": [
    "''.join(res)"
   ]
  },
  {
   "cell_type": "code",
   "execution_count": 271,
   "id": "77c08750-670a-4e51-b4e6-b22023dd9ba7",
   "metadata": {},
   "outputs": [
    {
     "data": {
      "text/plain": [
       "['_',\n",
       " '_',\n",
       " '_',\n",
       " '_',\n",
       " '_',\n",
       " '_',\n",
       " '_',\n",
       " '_',\n",
       " '_',\n",
       " '_',\n",
       " '_',\n",
       " '_',\n",
       " '_',\n",
       " '_',\n",
       " '_',\n",
       " '_',\n",
       " '_',\n",
       " '_',\n",
       " '_',\n",
       " '_',\n",
       " '_',\n",
       " '_',\n",
       " '_',\n",
       " '_',\n",
       " '_',\n",
       " '_',\n",
       " '_',\n",
       " '_',\n",
       " '_',\n",
       " '_',\n",
       " '_',\n",
       " '_',\n",
       " '_',\n",
       " '_',\n",
       " '_',\n",
       " '_',\n",
       " '_',\n",
       " '_',\n",
       " '_',\n",
       " '_',\n",
       " '_',\n",
       " '_',\n",
       " '_',\n",
       " '_',\n",
       " '_',\n",
       " '_',\n",
       " '_',\n",
       " '_',\n",
       " '_',\n",
       " '_',\n",
       " '_',\n",
       " '_',\n",
       " '_',\n",
       " '_',\n",
       " '_',\n",
       " '_',\n",
       " '_',\n",
       " '_',\n",
       " '_',\n",
       " '_',\n",
       " '_',\n",
       " '_',\n",
       " '_',\n",
       " '_',\n",
       " '_',\n",
       " '_',\n",
       " '_',\n",
       " '_',\n",
       " '_',\n",
       " '_',\n",
       " '_',\n",
       " '_',\n",
       " '_',\n",
       " '_',\n",
       " '_',\n",
       " '_',\n",
       " '_',\n",
       " '_',\n",
       " '_',\n",
       " '_',\n",
       " '_',\n",
       " '_',\n",
       " '_']"
      ]
     },
     "execution_count": 271,
     "metadata": {},
     "output_type": "execute_result"
    }
   ],
   "source": [
    "res"
   ]
  },
  {
   "cell_type": "code",
   "execution_count": null,
   "id": "af2e5281-69f8-4bf1-9eb3-2ef6093abd6c",
   "metadata": {},
   "outputs": [],
   "source": []
  }
 ],
 "metadata": {
  "kernelspec": {
   "display_name": "Python 3 (ipykernel)",
   "language": "python",
   "name": "python3"
  },
  "language_info": {
   "codemirror_mode": {
    "name": "ipython",
    "version": 3
   },
   "file_extension": ".py",
   "mimetype": "text/x-python",
   "name": "python",
   "nbconvert_exporter": "python",
   "pygments_lexer": "ipython3",
   "version": "3.9.6"
  }
 },
 "nbformat": 4,
 "nbformat_minor": 5
}
