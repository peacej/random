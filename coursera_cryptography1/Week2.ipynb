{
 "cells": [
  {
   "cell_type": "code",
   "execution_count": 1,
   "id": "c1f630ce-1553-4394-ae93-a497301e7e18",
   "metadata": {},
   "outputs": [],
   "source": [
    "# problem 4"
   ]
  },
  {
   "cell_type": "code",
   "execution_count": 2,
   "id": "4818a37c-0dab-4c17-b0a5-e460ff17351c",
   "metadata": {},
   "outputs": [
    {
     "data": {
      "text/plain": [
       "270414677"
      ]
     },
     "execution_count": 2,
     "metadata": {},
     "output_type": "execute_result"
    }
   ],
   "source": [
    "0x290b6e3a ^ 0x39155d6f"
   ]
  },
  {
   "cell_type": "code",
   "execution_count": 3,
   "id": "8170c85b-efea-4eb2-a40e-f950dd6f9e92",
   "metadata": {},
   "outputs": [],
   "source": [
    "a = \"\"\" On input 0^{64}0 \n",
    "64\n",
    "  the output is        \"290b6e3a 39155d6f\".    \n",
    "\n",
    " On input 1^{32} 0^{32}1 \n",
    "32\n",
    " 0 \n",
    "32\n",
    "  the output is \"d6f491c5 b645c008\".\n",
    "\n",
    "\n",
    "\n",
    " On input 0^{64}0 \n",
    "64\n",
    "  the output is        \"5f67abaf 5210722b\".     \n",
    "\n",
    " On input 1^{32} 0^{32}1 \n",
    "32\n",
    " 0 \n",
    "32\n",
    "  the output is \"bbe033c0 0bc9330e\".\n",
    "\n",
    "\n",
    "\n",
    " On input 0^{64}0 \n",
    "64\n",
    "  the output is        \"9d1a4f78 cb28d863\".    \n",
    "\n",
    " On input 1^{32} 0^{32}1 \n",
    "32\n",
    " 0 \n",
    "32\n",
    "  the output is \"75e5e3ea 773ec3e6\".\n",
    "\n",
    "\n",
    "\n",
    " On input 0^{64}0 \n",
    "64\n",
    "  the output is        \"7b50baab 07640c3d\".     \n",
    "\n",
    " On input 1^{32} 0^{32}1 \n",
    "32\n",
    " 0 \n",
    "32\n",
    "  the output is \"ac343a22 cea46d60\".\"\"\""
   ]
  },
  {
   "cell_type": "code",
   "execution_count": 21,
   "id": "1466adb6-c1b4-45a3-954c-48a4cc5fdcd5",
   "metadata": {},
   "outputs": [],
   "source": [
    "b = a.split('\\n')\n",
    "rows = []\n",
    "for row in b:\n",
    "    if row.strip().endswith('.'):\n",
    "        pair = row.split('\"')[-2].split(' ')\n",
    "        rows.append([int(x,16) for x in pair])"
   ]
  },
  {
   "cell_type": "code",
   "execution_count": 23,
   "id": "47bf7c17-cd30-43c4-94dc-58b247a2d11d",
   "metadata": {},
   "outputs": [
    {
     "data": {
      "text/plain": [
       "[[688614970, 957701487],\n",
       " [3606352325, 3058024456],\n",
       " [1600629679, 1376809515],\n",
       " [3152032704, 197735182],\n",
       " [2635747192, 3408451683],\n",
       " [1978000362, 2000602086],\n",
       " [2068888235, 123997245],\n",
       " [2889103906, 3466882400]]"
      ]
     },
     "execution_count": 23,
     "metadata": {},
     "output_type": "execute_result"
    }
   ],
   "source": [
    "rows"
   ]
  },
  {
   "cell_type": "code",
   "execution_count": 24,
   "id": "6e5af712-6836-4749-b74d-33c2c6afc39e",
   "metadata": {},
   "outputs": [
    {
     "name": "stdout",
     "output_type": "stream",
     "text": [
      "0\n",
      "2\n",
      "4\n",
      "6\n"
     ]
    }
   ],
   "source": [
    "for i in range(0,8,2):\n",
    "    print(i)"
   ]
  },
  {
   "cell_type": "code",
   "execution_count": 35,
   "id": "a9c7fac6-d9f0-4654-803d-12db14cfe17c",
   "metadata": {},
   "outputs": [
    {
     "name": "stdout",
     "output_type": "stream",
     "text": [
      "0\n",
      "0b11111111111111111111111111111111\n",
      "2\n",
      "0b11100100100001111001100001101111\n",
      "4\n",
      "0b11101000111111111010110010010010\n",
      "6\n",
      "0b11010111011001001000000010001001\n"
     ]
    }
   ],
   "source": [
    "for i in range(0,8,2):\n",
    "    print(i)\n",
    "    print(bin(rows[i][0] ^ rows[i+1][0]))"
   ]
  },
  {
   "cell_type": "code",
   "execution_count": null,
   "id": "6869d934-f767-4bc0-b13c-9f5a01a4d5c8",
   "metadata": {},
   "outputs": [],
   "source": []
  },
  {
   "cell_type": "code",
   "execution_count": 27,
   "id": "a73209fe-5495-4cc2-ab2b-fd1e78a15756",
   "metadata": {},
   "outputs": [
    {
     "data": {
      "text/plain": [
       "3466882400"
      ]
     },
     "execution_count": 27,
     "metadata": {},
     "output_type": "execute_result"
    }
   ],
   "source": [
    "rows[7][1]a\n"
   ]
  },
  {
   "cell_type": "code",
   "execution_count": 32,
   "id": "a669f8d0-50b2-4097-9273-be8f6974d8ee",
   "metadata": {},
   "outputs": [
    {
     "data": {
      "text/plain": [
       "7"
      ]
     },
     "execution_count": 32,
     "metadata": {},
     "output_type": "execute_result"
    }
   ],
   "source": [
    "int(\"101\",2) ^ int(\"010\",2)"
   ]
  },
  {
   "cell_type": "code",
   "execution_count": 33,
   "id": "1069c05f-2506-43d2-8546-71fe06e34765",
   "metadata": {},
   "outputs": [
    {
     "data": {
      "text/plain": [
       "7"
      ]
     },
     "execution_count": 33,
     "metadata": {},
     "output_type": "execute_result"
    }
   ],
   "source": [
    "int(\"111\",2)"
   ]
  },
  {
   "cell_type": "code",
   "execution_count": 34,
   "id": "0e6607ce-0918-40ef-b380-ef5aada84263",
   "metadata": {},
   "outputs": [
    {
     "data": {
      "text/plain": [
       "'0b111'"
      ]
     },
     "execution_count": 34,
     "metadata": {},
     "output_type": "execute_result"
    }
   ],
   "source": [
    "bin(7)"
   ]
  },
  {
   "cell_type": "code",
   "execution_count": 36,
   "id": "9367b2ad-6821-4000-a159-e864f71fa2c9",
   "metadata": {},
   "outputs": [
    {
     "data": {
      "text/plain": [
       "165"
      ]
     },
     "execution_count": 36,
     "metadata": {},
     "output_type": "execute_result"
    }
   ],
   "source": [
    "len('The significance of this general conjecture, assuming its truth, is easy to see. It means that it may be feasible to design ciphers that are effectively unbreakable.')"
   ]
  },
  {
   "cell_type": "code",
   "execution_count": 40,
   "id": "31fefde0-2050-4eb9-9b88-271679ddcbee",
   "metadata": {},
   "outputs": [
    {
     "data": {
      "text/plain": [
       "123"
      ]
     },
     "execution_count": 40,
     "metadata": {},
     "output_type": "execute_result"
    }
   ],
   "source": [
    "len('If qualified opinions incline to believe in the exponential conjecture, then I think we cannot afford not to make use of it')"
   ]
  },
  {
   "cell_type": "code",
   "execution_count": 41,
   "id": "82bdd9b2-8f9f-422a-980b-6f40b5afdded",
   "metadata": {},
   "outputs": [
    {
     "data": {
      "text/plain": [
       "107"
      ]
     },
     "execution_count": 41,
     "metadata": {},
     "output_type": "execute_result"
    }
   ],
   "source": [
    "len('In this letter I make some remarks on a general principle relevant to enciphering in general and my machine')"
   ]
  },
  {
   "cell_type": "code",
   "execution_count": 43,
   "id": "d1d08145-1434-44bd-9ee3-acb5d0eb9ec2",
   "metadata": {},
   "outputs": [
    {
     "data": {
      "text/plain": [
       "112"
      ]
     },
     "execution_count": 43,
     "metadata": {},
     "output_type": "execute_result"
    }
   ],
   "source": [
    "128-16"
   ]
  },
  {
   "cell_type": "code",
   "execution_count": 39,
   "id": "d455ef7f-9da3-45a5-9242-30a83f26f8cc",
   "metadata": {},
   "outputs": [
    {
     "data": {
      "text/plain": [
       "92"
      ]
     },
     "execution_count": 39,
     "metadata": {},
     "output_type": "execute_result"
    }
   ],
   "source": [
    "len('The most direct computation would be for the enemy to try all 2^r possible keys, one by one.')"
   ]
  },
  {
   "cell_type": "code",
   "execution_count": null,
   "id": "17879aa4-06d5-4c74-acdb-b4e1945fcc38",
   "metadata": {},
   "outputs": [],
   "source": []
  }
 ],
 "metadata": {
  "kernelspec": {
   "display_name": "Python 3 (ipykernel)",
   "language": "python",
   "name": "python3"
  },
  "language_info": {
   "codemirror_mode": {
    "name": "ipython",
    "version": 3
   },
   "file_extension": ".py",
   "mimetype": "text/x-python",
   "name": "python",
   "nbconvert_exporter": "python",
   "pygments_lexer": "ipython3",
   "version": "3.9.6"
  }
 },
 "nbformat": 4,
 "nbformat_minor": 5
}
