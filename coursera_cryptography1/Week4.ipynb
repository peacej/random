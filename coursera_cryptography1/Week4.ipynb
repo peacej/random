{
 "cells": [
  {
   "cell_type": "code",
   "execution_count": 156,
   "id": "663c00fc",
   "metadata": {},
   "outputs": [],
   "source": [
    "import binascii\n",
    "from binascii import hexlify"
   ]
  },
  {
   "cell_type": "code",
   "execution_count": 121,
   "id": "35d4867c",
   "metadata": {},
   "outputs": [],
   "source": [
    "def strxor(a, b):     \n",
    "    if len(a) > len(b):\n",
    "        return \"\".join([chr(ord(x) ^ ord(y)) for (x, y) in zip(a[:len(b)], b)])\n",
    "    else:\n",
    "        return \"\".join([chr(ord(x) ^ ord(y)) for (x, y) in zip(a, b[:len(a)])])"
   ]
  },
  {
   "cell_type": "code",
   "execution_count": 207,
   "id": "cec15191",
   "metadata": {},
   "outputs": [],
   "source": [
    "cypherText =\"20814804c1767293b99f1d9cab3bc3e7 ac1e37bfb15599e5f40eef805488281d\".split(' ')"
   ]
  },
  {
   "cell_type": "code",
   "execution_count": 208,
   "id": "457d5cf5",
   "metadata": {},
   "outputs": [],
   "source": [
    "cypherTextIV = cypherText[0]; cypherTextC0 = cypherText[1]"
   ]
  },
  {
   "cell_type": "code",
   "execution_count": 214,
   "id": "a0c8c1c3",
   "metadata": {},
   "outputs": [
    {
     "data": {
      "text/plain": [
       "'20814804c1767293b99f1d9cab3bc3e7'"
      ]
     },
     "execution_count": 214,
     "metadata": {},
     "output_type": "execute_result"
    }
   ],
   "source": [
    "cypherTextIV"
   ]
  },
  {
   "cell_type": "code",
   "execution_count": 205,
   "id": "c331cb09",
   "metadata": {},
   "outputs": [
    {
     "data": {
      "text/plain": [
       "'ac1e37bfb15599e5f40eef805488281d'"
      ]
     },
     "execution_count": 205,
     "metadata": {},
     "output_type": "execute_result"
    }
   ],
   "source": [
    "cypherTextC0"
   ]
  },
  {
   "cell_type": "code",
   "execution_count": 135,
   "id": "c4a7179f",
   "metadata": {},
   "outputs": [],
   "source": [
    "plainText = \"Pay Bob 100$\"\n",
    "plainTextTarget = \"Pay Bob 500$\""
   ]
  },
  {
   "cell_type": "code",
   "execution_count": 136,
   "id": "1e86c4f9",
   "metadata": {},
   "outputs": [],
   "source": [
    "paddingNum1 = str(int(len(cypherTextC0)/2 - len(plainText)))\n",
    "padding1 = \"\".join([paddingNum1] * int(paddingNum1))"
   ]
  },
  {
   "cell_type": "code",
   "execution_count": 137,
   "id": "4b432252",
   "metadata": {},
   "outputs": [
    {
     "data": {
      "text/plain": [
       "'4444'"
      ]
     },
     "execution_count": 137,
     "metadata": {},
     "output_type": "execute_result"
    }
   ],
   "source": [
    "padding1"
   ]
  },
  {
   "cell_type": "code",
   "execution_count": 138,
   "id": "4495378c",
   "metadata": {},
   "outputs": [],
   "source": [
    "\tpaddingNum2 = str(int(len(cypherTextC0)/2 - len(plainTextTarget)))\n",
    "\tpadding2 = \"\".join([paddingNum2] * int(paddingNum2))"
   ]
  },
  {
   "cell_type": "code",
   "execution_count": 139,
   "id": "a5ae1df1",
   "metadata": {},
   "outputs": [
    {
     "data": {
      "text/plain": [
       "'4444'"
      ]
     },
     "execution_count": 139,
     "metadata": {},
     "output_type": "execute_result"
    }
   ],
   "source": [
    "padding2"
   ]
  },
  {
   "cell_type": "code",
   "execution_count": 140,
   "id": "e6bf42bc",
   "metadata": {},
   "outputs": [],
   "source": [
    "plainText += padding1\n",
    "plainTextTarget += padding2"
   ]
  },
  {
   "cell_type": "code",
   "execution_count": 148,
   "id": "3515a09e",
   "metadata": {},
   "outputs": [
    {
     "data": {
      "text/plain": [
       "('Pay Bob 100$4444', 'Pay Bob 500$4444')"
      ]
     },
     "execution_count": 148,
     "metadata": {},
     "output_type": "execute_result"
    }
   ],
   "source": [
    "plainText, plainTextTarget"
   ]
  },
  {
   "cell_type": "code",
   "execution_count": 185,
   "id": "f34c20fc",
   "metadata": {},
   "outputs": [
    {
     "data": {
      "text/plain": [
       "106844349185495055220793639374131835956"
      ]
     },
     "execution_count": 185,
     "metadata": {},
     "output_type": "execute_result"
    }
   ],
   "source": [
    "int.from_bytes(plainText.encode(),'big')"
   ]
  },
  {
   "cell_type": "code",
   "execution_count": 186,
   "id": "de7046cf",
   "metadata": {},
   "outputs": [
    {
     "data": {
      "text/plain": [
       "106844349185495055221081869750283547700"
      ]
     },
     "execution_count": 186,
     "metadata": {},
     "output_type": "execute_result"
    }
   ],
   "source": [
    "int.from_bytes(plainTextTarget.encode(),'big')"
   ]
  },
  {
   "cell_type": "code",
   "execution_count": 218,
   "id": "a797f046",
   "metadata": {},
   "outputs": [],
   "source": [
    "xorredPlainText = int.from_bytes(plainText.encode(),'big') ^ int.from_bytes(plainTextTarget.encode(),'big')"
   ]
  },
  {
   "cell_type": "code",
   "execution_count": 220,
   "id": "de5c79b1",
   "metadata": {},
   "outputs": [],
   "source": [
    "newIV = xorredPlainText ^  int(cypherTextIV, 16)"
   ]
  },
  {
   "cell_type": "code",
   "execution_count": 221,
   "id": "0142f9cd",
   "metadata": {},
   "outputs": [
    {
     "data": {
      "text/plain": [
       "43206562870146214891678357366255633383"
      ]
     },
     "execution_count": 221,
     "metadata": {},
     "output_type": "execute_result"
    }
   ],
   "source": [
    "newIV"
   ]
  },
  {
   "cell_type": "code",
   "execution_count": 222,
   "id": "0671b8b7",
   "metadata": {},
   "outputs": [
    {
     "data": {
      "text/plain": [
       "'0x20814804c1767293bd9f1d9cab3bc3e7'"
      ]
     },
     "execution_count": 222,
     "metadata": {},
     "output_type": "execute_result"
    }
   ],
   "source": [
    "hex(newIV)"
   ]
  },
  {
   "cell_type": "code",
   "execution_count": 223,
   "id": "0e1d156c",
   "metadata": {},
   "outputs": [
    {
     "data": {
      "text/plain": [
       "['20814804c1767293b99f1d9cab3bc3e7', 'ac1e37bfb15599e5f40eef805488281d']"
      ]
     },
     "execution_count": 223,
     "metadata": {},
     "output_type": "execute_result"
    }
   ],
   "source": [
    "cypherText"
   ]
  },
  {
   "cell_type": "code",
   "execution_count": 225,
   "id": "2cc9c84d",
   "metadata": {},
   "outputs": [],
   "source": [
    "answer = hex(newIV)[2:] + ' ' + cypherTextC0"
   ]
  },
  {
   "cell_type": "code",
   "execution_count": 226,
   "id": "536a3659",
   "metadata": {},
   "outputs": [
    {
     "data": {
      "text/plain": [
       "True"
      ]
     },
     "execution_count": 226,
     "metadata": {},
     "output_type": "execute_result"
    }
   ],
   "source": [
    "answer == \"20814804c1767293bd9f1d9cab3bc3e7 ac1e37bfb15599e5f40eef805488281d\""
   ]
  },
  {
   "cell_type": "code",
   "execution_count": 146,
   "id": "c5650311",
   "metadata": {},
   "outputs": [
    {
     "name": "stdout",
     "output_type": "stream",
     "text": [
      "New CBC\n",
      "x20814800c176729 ac1e37bfb15599e5f40eef805488281d\n"
     ]
    }
   ],
   "source": [
    "print (\"New CBC\\n\" + newIV + ' ' + cypherText[1])"
   ]
  },
  {
   "cell_type": "code",
   "execution_count": 78,
   "id": "045e16c6",
   "metadata": {},
   "outputs": [
    {
     "data": {
      "text/plain": [
       "64"
      ]
     },
     "execution_count": 78,
     "metadata": {},
     "output_type": "execute_result"
    }
   ],
   "source": [
    "len('20814804c1767293b99f1d9cab3bc3e7ac1e37bfb15599e5f40eef805488281d')"
   ]
  },
  {
   "cell_type": "code",
   "execution_count": 46,
   "id": "8a4e91ae",
   "metadata": {},
   "outputs": [
    {
     "data": {
      "text/plain": [
       "14702431479971690390352813277007571256507120751977098005148972495818707183645"
      ]
     },
     "execution_count": 46,
     "metadata": {},
     "output_type": "execute_result"
    }
   ],
   "source": [
    "ct ^ 0x00000000000000aa0000000000000000"
   ]
  },
  {
   "cell_type": "code",
   "execution_count": 52,
   "id": "c21df8a8",
   "metadata": {},
   "outputs": [
    {
     "data": {
      "text/plain": [
       "256"
      ]
     },
     "execution_count": 52,
     "metadata": {},
     "output_type": "execute_result"
    }
   ],
   "source": [
    "len(bin(ct))"
   ]
  },
  {
   "cell_type": "code",
   "execution_count": 71,
   "id": "3da48ad7",
   "metadata": {},
   "outputs": [
    {
     "data": {
      "text/plain": [
       "256"
      ]
     },
     "execution_count": 71,
     "metadata": {},
     "output_type": "execute_result"
    }
   ],
   "source": [
    "len(bin(ct))"
   ]
  },
  {
   "cell_type": "code",
   "execution_count": 58,
   "id": "23282f8d",
   "metadata": {},
   "outputs": [
    {
     "data": {
      "text/plain": [
       "'0b00000000000000000000000000000000000000000000000000000000000000000000000000000000000000000000000000000000000000000000000000000000000000000000000000000000000000000000000000000000000000000000000000000000000000000000000000000000000000000000000000000000000000'"
      ]
     },
     "execution_count": 58,
     "metadata": {},
     "output_type": "execute_result"
    }
   ],
   "source": [
    "'0b' + '0' * 254"
   ]
  },
  {
   "cell_type": "code",
   "execution_count": 60,
   "id": "e490fcb2",
   "metadata": {},
   "outputs": [
    {
     "data": {
      "text/plain": [
       "256"
      ]
     },
     "execution_count": 60,
     "metadata": {},
     "output_type": "execute_result"
    }
   ],
   "source": [
    "len('0b00000000000000000000000000000000000000000000000000000000000000000000000000000000000000000000000000000000000000000000000000000000000000000000000000000000000000000000000000000000000000000000000000000000000000000000000000000000000000000000000000000000000000')"
   ]
  },
  {
   "cell_type": "code",
   "execution_count": 62,
   "id": "8570923d",
   "metadata": {},
   "outputs": [],
   "source": [
    "changer = 0b00000000000000000000000000000000000000000000000000000000000000000000000000000000000000000000000000000000000000000000000000000000000000000000000000000000000000000000000000000000000000000000000000000000000000000000000000000000000000000000000000000000000000"
   ]
  },
  {
   "cell_type": "code",
   "execution_count": 70,
   "id": "d2ce7e99",
   "metadata": {},
   "outputs": [
    {
     "data": {
      "text/plain": [
       "True"
      ]
     },
     "execution_count": 70,
     "metadata": {},
     "output_type": "execute_result"
    }
   ],
   "source": [
    "hex(ct ^ changer) == hex(ct)"
   ]
  },
  {
   "cell_type": "code",
   "execution_count": 79,
   "id": "ab0945a4",
   "metadata": {},
   "outputs": [],
   "source": [
    "changer_hex = '0x' + '0' * 14 + '31' + '0'*(64-16)"
   ]
  },
  {
   "cell_type": "code",
   "execution_count": 87,
   "id": "fc6420fd",
   "metadata": {},
   "outputs": [],
   "source": [
    "changer_hex2 = '0x' + '0' * 14 + '35' + '0'*(64-16)"
   ]
  },
  {
   "cell_type": "code",
   "execution_count": 88,
   "id": "1e72a7be",
   "metadata": {},
   "outputs": [
    {
     "data": {
      "text/plain": [
       "'0x0000000000000035000000000000000000000000000000000000000000000000'"
      ]
     },
     "execution_count": 88,
     "metadata": {},
     "output_type": "execute_result"
    }
   ],
   "source": [
    "changer_hex"
   ]
  },
  {
   "cell_type": "code",
   "execution_count": 90,
   "id": "91e7abbf",
   "metadata": {},
   "outputs": [
    {
     "data": {
      "text/plain": [
       "'0x20814804c1767293b99f1d9cab3bc3e7ac1e37bfb15599e5f40eef805488281d'"
      ]
     },
     "execution_count": 90,
     "metadata": {},
     "output_type": "execute_result"
    }
   ],
   "source": [
    "hex(ct ^ int(changer_hex,16) ^ int(changer_hex2,16))"
   ]
  },
  {
   "cell_type": "code",
   "execution_count": 83,
   "id": "66f74d10",
   "metadata": {},
   "outputs": [
    {
     "data": {
      "text/plain": [
       "'0x20814804c1767293b99f1d9cab3bc3e7ac1e37bfb15599e5f40eef805488281d'"
      ]
     },
     "execution_count": 83,
     "metadata": {},
     "output_type": "execute_result"
    }
   ],
   "source": [
    "hex(ct)"
   ]
  },
  {
   "cell_type": "code",
   "execution_count": 69,
   "id": "f8264cb2",
   "metadata": {},
   "outputs": [
    {
     "data": {
      "text/plain": [
       "'0x20814804c1767293b99f1d9cab3bc3e7ac1e37bfb15599e5f40eef805488281d'"
      ]
     },
     "execution_count": 69,
     "metadata": {},
     "output_type": "execute_result"
    }
   ],
   "source": [
    "hex(ct)"
   ]
  },
  {
   "cell_type": "code",
   "execution_count": 41,
   "id": "97e3096c",
   "metadata": {},
   "outputs": [
    {
     "data": {
      "text/plain": [
       "'0x20814804c1767293b99f1d9cab3bc3e7ac1e37bfb15599e5f40eef805488281d'"
      ]
     },
     "execution_count": 41,
     "metadata": {},
     "output_type": "execute_result"
    }
   ],
   "source": [
    "ct"
   ]
  },
  {
   "cell_type": "code",
   "execution_count": 6,
   "id": "e387a0a9",
   "metadata": {},
   "outputs": [],
   "source": [
    "pt = \"Pay Bob 100$\""
   ]
  },
  {
   "cell_type": "code",
   "execution_count": 23,
   "id": "0f5b5c89",
   "metadata": {},
   "outputs": [
    {
     "data": {
      "text/plain": [
       "'0b10100000110000101111001001000000100001001101111011000100010000000110001001100000011000000100100'"
      ]
     },
     "execution_count": 23,
     "metadata": {},
     "output_type": "execute_result"
    }
   ],
   "source": [
    "pt_bin = bin(int.from_bytes(pt.encode(),'big')); pt_bin"
   ]
  },
  {
   "cell_type": "code",
   "execution_count": null,
   "id": "dcd86085",
   "metadata": {},
   "outputs": [],
   "source": []
  },
  {
   "cell_type": "code",
   "execution_count": 28,
   "id": "7b5ed5ee",
   "metadata": {},
   "outputs": [
    {
     "data": {
      "text/plain": [
       "'0b1100001'"
      ]
     },
     "execution_count": 28,
     "metadata": {},
     "output_type": "execute_result"
    }
   ],
   "source": [
    "bin(int.from_bytes(\"a\".encode(),'big'))"
   ]
  },
  {
   "cell_type": "code",
   "execution_count": 24,
   "id": "b13efe4d",
   "metadata": {},
   "outputs": [
    {
     "data": {
      "text/plain": [
       "97"
      ]
     },
     "execution_count": 24,
     "metadata": {},
     "output_type": "execute_result"
    }
   ],
   "source": [
    "len(pt_bin)"
   ]
  },
  {
   "cell_type": "code",
   "execution_count": 26,
   "id": "d586728f",
   "metadata": {},
   "outputs": [
    {
     "data": {
      "text/plain": [
       "96"
      ]
     },
     "execution_count": 26,
     "metadata": {},
     "output_type": "execute_result"
    }
   ],
   "source": [
    "len(pt)*8"
   ]
  },
  {
   "cell_type": "code",
   "execution_count": 32,
   "id": "b3187f19",
   "metadata": {},
   "outputs": [
    {
     "data": {
      "text/plain": [
       "12"
      ]
     },
     "execution_count": 32,
     "metadata": {},
     "output_type": "execute_result"
    }
   ],
   "source": [
    "len(pt)"
   ]
  },
  {
   "cell_type": "code",
   "execution_count": 33,
   "id": "100c1d99",
   "metadata": {},
   "outputs": [
    {
     "data": {
      "text/plain": [
       "64"
      ]
     },
     "execution_count": 33,
     "metadata": {},
     "output_type": "execute_result"
    }
   ],
   "source": [
    "len(ct)"
   ]
  },
  {
   "cell_type": "code",
   "execution_count": 38,
   "id": "cb2129eb",
   "metadata": {},
   "outputs": [
    {
     "data": {
      "text/plain": [
       "14"
      ]
     },
     "execution_count": 38,
     "metadata": {},
     "output_type": "execute_result"
    }
   ],
   "source": [
    "change_idx = ( pt.find(\"1\")  - 1 ) *2 ; change_idx"
   ]
  },
  {
   "cell_type": "code",
   "execution_count": 35,
   "id": "3900a714",
   "metadata": {},
   "outputs": [
    {
     "data": {
      "text/plain": [
       "'1'"
      ]
     },
     "execution_count": 35,
     "metadata": {},
     "output_type": "execute_result"
    }
   ],
   "source": []
  },
  {
   "cell_type": "code",
   "execution_count": null,
   "id": "1ad5af85",
   "metadata": {},
   "outputs": [],
   "source": []
  }
 ],
 "metadata": {
  "kernelspec": {
   "display_name": "Python 3 (ipykernel)",
   "language": "python",
   "name": "python3"
  },
  "language_info": {
   "codemirror_mode": {
    "name": "ipython",
    "version": 3
   },
   "file_extension": ".py",
   "mimetype": "text/x-python",
   "name": "python",
   "nbconvert_exporter": "python",
   "pygments_lexer": "ipython3",
   "version": "3.9.6"
  }
 },
 "nbformat": 4,
 "nbformat_minor": 5
}
