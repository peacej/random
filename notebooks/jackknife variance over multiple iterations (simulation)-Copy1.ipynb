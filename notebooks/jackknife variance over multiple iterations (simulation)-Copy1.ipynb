{
 "cells": [
  {
   "cell_type": "code",
   "execution_count": 1,
   "metadata": {},
   "outputs": [],
   "source": [
    "import numpy as np\n",
    "import pandas as pd\n",
    "from scipy import stats\n",
    "from itertools import cycle\n",
    "from matplotlib import pyplot as plt"
   ]
  },
  {
   "cell_type": "code",
   "execution_count": 2,
   "metadata": {},
   "outputs": [],
   "source": [
    "%matplotlib inline"
   ]
  },
  {
   "cell_type": "markdown",
   "metadata": {},
   "source": [
    "## Simulate with metric following normal distribution"
   ]
  },
  {
   "cell_type": "code",
   "execution_count": 4,
   "metadata": {},
   "outputs": [],
   "source": [
    "mean = 500\n",
    "stdev = 100 #standard deviation\n",
    "n = 100000"
   ]
  },
  {
   "cell_type": "code",
   "execution_count": 14,
   "metadata": {},
   "outputs": [
    {
     "data": {
      "text/plain": [
       "300.3003003003003"
      ]
     },
     "execution_count": 14,
     "metadata": {},
     "output_type": "execute_result"
    }
   ],
   "source": [
    "100000/333"
   ]
  },
  {
   "cell_type": "code",
   "execution_count": 5,
   "metadata": {},
   "outputs": [],
   "source": [
    "values = np.random.normal(mean,stdev,n) #randomly generate numbers from normal distribution"
   ]
  },
  {
   "cell_type": "code",
   "execution_count": 6,
   "metadata": {},
   "outputs": [
    {
     "data": {
      "text/plain": [
       "array([375.18495036, 528.25586581, 453.4193882 , 473.52058546,\n",
       "       536.01470225, 652.5356191 , 460.50708916, 421.01513685,\n",
       "       725.05396517, 566.404366  ])"
      ]
     },
     "execution_count": 6,
     "metadata": {},
     "output_type": "execute_result"
    }
   ],
   "source": [
    "values[:10]"
   ]
  },
  {
   "cell_type": "code",
   "execution_count": 7,
   "metadata": {},
   "outputs": [],
   "source": [
    "def get_stdev_jk(array, num_buckets):\n",
    "    n = len(array)\n",
    "    df = pd.DataFrame(array,columns=['metric'])\n",
    "    df = df.sample(frac=1)\n",
    "    df.loc[:,'count'] = 1\n",
    "    seq = cycle([x for x in range(num_buckets)])\n",
    "    df.loc[:,'bucket'] = [next(seq) for count in range(n)]\n",
    "    dfagg = df.groupby('bucket').sum().reset_index()\n",
    "    metric_sum = dfagg['metric'].sum()\n",
    "    dfagg['bucketed_metric'] = (metric_sum - dfagg['metric']) / (n-dfagg['count'])\n",
    "    dfagg.set_index('bucket',inplace=True)\n",
    "    bucketed_metric = dfagg['bucketed_metric']\n",
    "    m = bucketed_metric.mean()\n",
    "    return np.sqrt(np.square(bucketed_metric - m).sum()\n",
    "                   * (num_buckets - 1) / num_buckets                )\n",
    "    "
   ]
  },
  {
   "cell_type": "code",
   "execution_count": 8,
   "metadata": {},
   "outputs": [],
   "source": [
    "theoretical_stderr = stdev / n**0.5 #stderr means standard error"
   ]
  },
  {
   "cell_type": "code",
   "execution_count": 12,
   "metadata": {},
   "outputs": [
    {
     "name": "stdout",
     "output_type": "stream",
     "text": [
      "5000 0.008086600510421881\n",
      "6000 0.00760730796934772\n",
      "7000 0.007267116111562348\n",
      "8000 0.006815958727020966\n",
      "9000 0.006739827552543775\n",
      "10000 0.006474904146900419\n",
      "11000 0.006143411899677786\n",
      "12000 0.006070681098946428\n",
      "13000 0.00585385891286635\n",
      "14000 0.005705759178367892\n",
      "15000 0.0055333496160608975\n",
      "16000 0.005397065713358815\n",
      "17000 0.0053282863945771875\n",
      "18000 0.005226419253200798\n",
      "19000 0.005152146552815742\n"
     ]
    }
   ],
   "source": [
    "jackknife_stderr_estimates = []\n",
    "num_iter = 40\n",
    "#num_buckets=30\n",
    "for num_buckets in range(5000,20000,1000):\n",
    "    for _ in range(num_iter):\n",
    "        jackknife_stderr_estimates.append(get_stdev_jk(values,num_buckets))\n",
    "    mean_est = np.mean(jackknife_stderr_estimates)\n",
    "    mean_abs_dev = np.mean(np.absolute(jackknife_stderr_estimates - mean_est))/mean_est\n",
    "    print(num_buckets, mean_abs_dev)\n",
    "\n"
   ]
  },
  {
   "cell_type": "markdown",
   "metadata": {},
   "source": [
    "## Redo using pareto distribution"
   ]
  },
  {
   "cell_type": "code",
   "execution_count": 227,
   "metadata": {},
   "outputs": [],
   "source": [
    "pareto_shape = 0.3\n",
    "n = 10000"
   ]
  },
  {
   "cell_type": "code",
   "execution_count": 228,
   "metadata": {},
   "outputs": [],
   "source": [
    "mean, var = stats.genpareto.stats(pareto_shape,moments='mv')"
   ]
  },
  {
   "cell_type": "code",
   "execution_count": 238,
   "metadata": {},
   "outputs": [],
   "source": [
    "theoretical_stderr = float(var)**.5 / n**.5"
   ]
  },
  {
   "cell_type": "code",
   "execution_count": 230,
   "metadata": {},
   "outputs": [],
   "source": [
    "values = stats.genpareto.rvs(pareto_shape,size=n)"
   ]
  },
  {
   "cell_type": "code",
   "execution_count": 231,
   "metadata": {},
   "outputs": [
    {
     "data": {
      "text/plain": [
       "(array([9.573e+03, 3.450e+02, 4.900e+01, 2.100e+01, 8.000e+00, 1.000e+00,\n",
       "        0.000e+00, 1.000e+00, 0.000e+00, 2.000e+00]),\n",
       " array([2.31384354e-05, 5.20307955e+00, 1.04061360e+01, 1.56091924e+01,\n",
       "        2.08122488e+01, 2.60153052e+01, 3.12183616e+01, 3.64214180e+01,\n",
       "        4.16244744e+01, 4.68275308e+01, 5.20305873e+01]),\n",
       " <a list of 10 Patch objects>)"
      ]
     },
     "execution_count": 231,
     "metadata": {},
     "output_type": "execute_result"
    },
    {
     "data": {
      "image/png": "[encoded data removed]",
      "text/plain": [
       "<Figure size 432x288 with 1 Axes>"
      ]
     },
     "metadata": {},
     "output_type": "display_data"
    }
   ],
   "source": [
    "_, ax = plt.subplots(facecolor='w')\n",
    "ax.hist(values)"
   ]
  },
  {
   "cell_type": "code",
   "execution_count": 248,
   "metadata": {},
   "outputs": [
    {
     "name": "stdout",
     "output_type": "stream",
     "text": [
      "Average stderr estimated by jackknife (avg across 500 iterations, 30 buckets per iter) is 0.0212\n",
      " ...which is close to the theoretical stderr (0.022587697572631283)\n",
      "The mean absolute deviation (%) from the above is:\n",
      "      10.68%.\n",
      "      I.e. on average, the estimate of the stderr is off by the above amount.\n",
      "The 95% empirical confidence interval (CI) of the stderr estimate is:\n",
      "          [0.0164,0.0271]\n",
      "      yes, this is kind of like showing the CI of the CI. \n",
      "If we hypothetically ran jackknife once resulting in a stderr estimate at the low end of this \n",
      "confidence interval, and then ran it again resulting in a stderr estimate at the high end, then the change in \n",
      "stderr estimate would be:\n",
      "+64.79%\n",
      "\n",
      "The variance in stderr estimate is caused by shuffling the data before each iteration.\n"
     ]
    },
    {
     "data": {
      "text/plain": [
       "(array([  2.,   8.,  52., 103., 151., 105.,  57.,  15.,   6.,   1.]),\n",
       " array([0.01178769, 0.01382799, 0.01586828, 0.01790857, 0.01994886,\n",
       "        0.02198916, 0.02402945, 0.02606974, 0.02811003, 0.03015032,\n",
       "        0.03219062]),\n",
       " <a list of 10 Patch objects>)"
      ]
     },
     "execution_count": 248,
     "metadata": {},
     "output_type": "execute_result"
    },
    {
     "data": {
      "image/png": "[encoded data removed]",
      "text/plain": [
       "<Figure size 432x288 with 1 Axes>"
      ]
     },
     "metadata": {},
     "output_type": "display_data"
    }
   ],
   "source": [
    "jackknife_stderr_estimates = []\n",
    "num_iter = 500\n",
    "num_buckets=30\n",
    "for _ in range(num_iter):\n",
    "    jackknife_stderr_estimates.append(get_stdev_jk(values,num_buckets))\n",
    "mean_est = np.mean(jackknife_stderr_estimates)\n",
    "print(f\"Average stderr estimated by jackknife (avg across {num_iter} iterations, {num_buckets} buckets per iter) is {round(mean_est,5)}\")\n",
    "print(f\" ...which is close to the theoretical stderr ({theoretical_stderr})\")\n",
    "print(f\"\"\"The mean absolute deviation (%) from the above is:\n",
    "      {round(100*np.mean(np.absolute(jackknife_stderr_estimates - mean_est))/mean_est,3)}%.\n",
    "      I.e. on average, the estimate of the stderr is off by the above amount.\"\"\")\n",
    "print(f\"\"\"The 95% empirical confidence interval (CI) of the stderr estimate is:\n",
    "          [{round(np.percentile(jackknife_stderr_estimates,2.5),4)},{round(np.percentile(jackknife_stderr_estimates,97.5),4)}]\n",
    "      yes, this is kind of like showing the CI of the CI. \"\"\")\n",
    "print(f\"\"\"If we hypothetically ran jackknife once resulting in a stderr estimate at the low end of this \n",
    "confidence interval, and then ran it again resulting in a stderr estimate at the high end, then the change in \n",
    "stderr estimate would be:\n",
    "+{round(100*np.percentile(jackknife_stderr_estimates,97.5)/np.percentile(jackknife_stderr_estimates,2.5)-100,2)}%\n",
    "\"\"\")\n",
    "print(\"\"\"The variance in stderr estimate is caused by shuffling the data before each iteration.\"\"\")\n",
    "_, ax = plt.subplots(facecolor='w')\n",
    "ax.hist(jackknife_stderr_estimates)\n"
   ]
  },
  {
   "cell_type": "code",
   "execution_count": null,
   "metadata": {},
   "outputs": [],
   "source": []
  }
 ],
 "metadata": {
  "kernelspec": {
   "display_name": "Python 3",
   "language": "python",
   "name": "python3"
  },
  "language_info": {
   "codemirror_mode": {
    "name": "ipython",
    "version": 3
   },
   "file_extension": ".py",
   "mimetype": "text/x-python",
   "name": "python",
   "nbconvert_exporter": "python",
   "pygments_lexer": "ipython3",
   "version": "3.6.9"
  }
 },
 "nbformat": 4,
 "nbformat_minor": 2
}
