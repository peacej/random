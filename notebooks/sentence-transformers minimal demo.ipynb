{
 "cells": [
  {
   "cell_type": "code",
   "execution_count": 17,
   "metadata": {},
   "outputs": [],
   "source": [
    "import pandas as pd\n",
    "import numpy as np"
   ]
  },
  {
   "cell_type": "code",
   "execution_count": 2,
   "metadata": {},
   "outputs": [],
   "source": [
    "import sentence_transformers as st"
   ]
  },
  {
   "cell_type": "code",
   "execution_count": 3,
   "metadata": {},
   "outputs": [],
   "source": [
    "model = st.SentenceTransformer('distilbert-base-nli-mean-tokens')"
   ]
  },
  {
   "cell_type": "code",
   "execution_count": 4,
   "metadata": {},
   "outputs": [
    {
     "data": {
      "text/plain": [
       "[array([-1.18456936e+00, -3.80751252e-01,  5.70952177e-01, -1.96907520e-01,\n",
       "        -1.24814343e+00, -2.35962942e-01,  2.62315363e-01, -3.50492865e-01,\n",
       "         2.60189295e-01,  1.36031747e-01,  3.52496415e-01,  8.33485484e-01,\n",
       "        -7.96369731e-01,  1.02349150e+00, -3.06178570e-01, -1.26091659e+00,\n",
       "         7.94607222e-01,  9.70712826e-02, -1.76925182e-01, -1.48145616e-01,\n",
       "         1.09787977e+00, -1.45094365e-01, -5.03086984e-01,  8.69092643e-01,\n",
       "        -5.20024776e-01, -2.81262040e-01,  9.72246587e-01,  1.09444082e-01,\n",
       "         2.16068193e-01,  6.49353385e-01, -9.38707143e-02,  8.99284184e-01,\n",
       "        -1.15091302e-01, -1.13751963e-01,  1.36130139e-01, -2.01750323e-01,\n",
       "         2.38336459e-01, -2.62810469e-01,  2.92719632e-01, -4.20371175e-01,\n",
       "         4.04634356e-01, -9.92321908e-01,  5.55080287e-02,  1.06900550e-01,\n",
       "         4.30007428e-01, -3.32337141e-01, -9.34900105e-01,  4.11898047e-01,\n",
       "        -1.16922259e+00,  3.00250016e-02,  2.46032014e-01,  2.16064170e-01,\n",
       "         3.49941343e-01, -4.03824180e-01,  2.81171575e-02, -1.52831813e-02,\n",
       "        -1.09182310e+00,  6.32236481e-01,  2.25802493e+00, -7.02209651e-01,\n",
       "        -6.95484281e-01, -2.49067053e-01,  1.45199478e-01,  1.84595466e-01,\n",
       "         2.00992972e-01, -8.84240642e-02, -6.21543348e-01,  5.37839830e-01,\n",
       "         7.33159035e-02, -1.05627611e-01,  1.10465825e+00, -3.82589698e-01,\n",
       "         8.81716967e-01, -6.06137514e-01,  2.42467761e-01, -1.63705862e+00,\n",
       "        -4.32033747e-01, -5.68907917e-01,  5.55868089e-01,  1.45077989e-01,\n",
       "        -6.07303798e-01,  1.78696111e-01,  5.79469837e-02,  1.02788889e+00,\n",
       "        -6.14534974e-01,  2.60437876e-01,  2.05546349e-01, -5.57417691e-01,\n",
       "        -8.05205643e-01, -3.44545186e-01,  1.54479817e-01,  2.06670716e-01,\n",
       "         4.55494940e-01,  1.24986336e-01,  6.25641882e-01,  1.48264721e-01,\n",
       "        -6.70894802e-01, -1.05293036e+00, -6.98040724e-01,  9.31940258e-01,\n",
       "        -7.19519794e-01,  3.45761687e-01,  2.85628557e-01,  6.02961361e-01,\n",
       "        -6.85645342e-01,  3.52773536e-03, -3.34175318e-01, -7.29616046e-01,\n",
       "        -5.23062348e-01,  4.34709191e-01,  5.28494060e-01,  1.43568337e-01,\n",
       "         4.04992670e-01,  1.17805159e+00, -5.65580428e-01, -6.78963304e-01,\n",
       "        -3.42320234e-01, -2.85883665e-01,  1.87302008e-01, -2.88875282e-01,\n",
       "        -7.91624725e-01, -6.18997931e-01,  1.18568636e-01, -1.17657684e-01,\n",
       "        -1.76944762e-01, -8.64960432e-01, -3.45977247e-01, -3.65515620e-01,\n",
       "         9.22542751e-01,  2.81385660e-01,  6.33175910e-01,  1.98171437e-01,\n",
       "         2.65851557e-01, -4.94802773e-01,  3.28238755e-02, -6.27044976e-01,\n",
       "        -9.72964764e-01,  7.93406844e-01, -1.02730915e-01, -7.92174578e-01,\n",
       "        -2.75637478e-01,  3.66886377e-01,  1.51510030e-01, -1.02709734e+00,\n",
       "         1.39144156e-02,  1.80065893e-02, -1.00609994e+00,  3.66868475e-03,\n",
       "        -5.70708334e-01, -6.97893620e-01, -5.01565933e-01,  1.93530649e-01,\n",
       "        -3.05193156e-01, -3.58444244e-01,  7.34215915e-01,  4.36884135e-01,\n",
       "         2.66003937e-01,  9.23063383e-02,  1.06759310e+00,  9.73362401e-02,\n",
       "        -1.38520253e+00, -1.55971810e-01,  9.06756967e-02, -1.79398194e-01,\n",
       "        -1.31303787e+00, -1.85434043e-01,  6.53824136e-02, -9.16587830e-01,\n",
       "         5.92552964e-03,  2.86590010e-01,  6.58695847e-02,  5.52864075e-01,\n",
       "         3.52800876e-01,  4.75388825e-01,  5.04809976e-01, -4.07323480e-01,\n",
       "         1.77808022e+00, -7.23743141e-01, -5.50878882e-01,  2.75236338e-01,\n",
       "         8.62199962e-01,  4.14728045e-01,  1.04105696e-01,  4.77050632e-01,\n",
       "        -1.02670765e+00, -4.43576753e-01,  2.72214025e-01, -6.77099228e-01,\n",
       "        -1.42238021e-01,  4.41342354e-01,  4.01673347e-01,  2.34348893e-01,\n",
       "        -4.40875709e-01,  6.30027771e-01, -7.38998456e-03,  7.35893011e-01,\n",
       "        -6.90677390e-02,  9.45688367e-01,  2.76373506e-01, -5.00976920e-01,\n",
       "        -1.21208228e-01,  4.15012352e-02, -5.07248268e-02,  1.15610659e-01,\n",
       "        -4.48362797e-01, -5.15938886e-02,  7.49977410e-01, -1.21497810e-01,\n",
       "        -5.20308375e-01, -2.95525938e-01, -3.39594364e-01,  7.38210857e-01,\n",
       "        -5.42264760e-01, -6.12970293e-01,  2.13662446e-01,  1.14461744e+00,\n",
       "        -1.25754988e+00,  3.02456886e-01, -4.70543653e-01,  4.89615090e-02,\n",
       "        -3.70987177e-01,  4.43988144e-01,  8.97085667e-01, -3.43430966e-01,\n",
       "         5.50653934e-01, -1.61819637e-01, -1.10237233e-01,  1.15345038e-01,\n",
       "        -1.96986288e-01, -4.84346300e-01, -7.49582708e-01,  2.19721869e-01,\n",
       "        -5.01056135e-01,  2.07262352e-01, -1.91622138e-01,  4.23492379e-02,\n",
       "         4.29990768e-01, -7.97351778e-01,  1.03565574e+00, -4.61436123e-01,\n",
       "        -1.00494480e+00,  1.27093923e+00, -2.26425096e-01,  2.21302330e-01,\n",
       "         1.09119818e-01,  9.50903118e-01, -2.54896313e-01, -1.01095438e+00,\n",
       "        -1.70570910e-01, -7.70305932e-01, -6.44907832e-01,  1.23603819e-02,\n",
       "        -4.04778570e-01,  5.63331127e-01,  1.73972011e-01, -8.47121179e-01,\n",
       "         2.45071858e-01, -4.95484442e-01, -3.38605642e-01,  4.28149670e-01,\n",
       "        -4.48713228e-02, -1.34696829e+00,  8.08235586e-01, -1.12366326e-01,\n",
       "        -6.51061535e-02,  2.45836139e-01, -2.34673321e-01, -5.61930239e-01,\n",
       "         1.91615731e-01,  1.97754819e-02, -5.54003239e-01, -4.41311032e-01,\n",
       "         3.52498472e-01,  5.92335165e-01, -4.20350544e-02,  7.60453641e-02,\n",
       "        -9.28537250e-02,  3.12937558e-01,  3.12790215e-01, -8.30559582e-02,\n",
       "         4.50147092e-02,  8.16200972e-01, -5.75189173e-01, -1.45200968e+00,\n",
       "        -6.89612031e-01,  1.17679521e-01, -2.52324373e-01, -9.79291201e-01,\n",
       "        -3.24028403e-01, -1.04344237e+00,  3.11738729e-01, -3.29527110e-02,\n",
       "        -9.59727228e-01,  7.14012027e-01,  2.71256357e-01,  7.88150646e-04,\n",
       "         2.70878047e-01,  3.54377121e-01, -1.07780802e+00, -8.40970948e-02,\n",
       "        -4.83418256e-01,  6.73972130e-01,  5.66252947e-01,  4.05029625e-01,\n",
       "        -2.02018708e-01, -9.87823606e-02,  5.64902306e-01, -1.10671973e+00,\n",
       "         8.58934149e-02,  7.28181824e-02, -3.83306503e-01,  3.53972912e-01,\n",
       "        -6.09742820e-01,  1.04260504e+00,  1.00097156e+00,  1.02899337e+00,\n",
       "         8.22941124e-01, -3.88467610e-01, -2.51167625e-01, -7.27538913e-02,\n",
       "        -2.45885968e-01,  4.00470465e-01,  2.27980718e-01,  5.79485714e-01,\n",
       "        -7.62374997e-01,  4.49325621e-01,  1.92461446e-01,  1.64903045e-01,\n",
       "        -3.81754309e-01,  1.23541927e+00,  3.24374497e-01, -1.09869826e+00,\n",
       "         7.44864225e-01, -3.19119930e-01,  6.09079123e-01, -2.87966043e-01,\n",
       "        -3.71327490e-01,  6.14909708e-01, -5.83187155e-02, -4.64214623e-01,\n",
       "         1.26949358e+00, -8.41182321e-02, -1.02225967e-01, -5.12866735e-01,\n",
       "         1.18951745e-01, -6.61779225e-01, -7.03077137e-01,  1.31906033e+00,\n",
       "        -5.75151980e-01,  9.74895582e-02, -1.37661323e-02, -3.93417105e-02,\n",
       "         8.61727357e-01, -1.09138691e+00, -1.34761184e-01, -2.32448831e-01,\n",
       "         3.19305539e-01,  3.01413447e-01,  8.72361004e-01, -1.47437617e-01,\n",
       "        -4.43778604e-01,  6.67634666e-01,  7.96660244e-01, -1.36686325e-01,\n",
       "         7.15261340e-01, -3.40692848e-01, -1.08985162e+00, -5.06518856e-02,\n",
       "         4.09312695e-01,  3.68535548e-01,  3.29482913e-01,  2.13730440e-01,\n",
       "         5.96311033e-01,  6.94390893e-01,  5.42570412e-01,  2.49770820e-01,\n",
       "         7.96301782e-01,  8.54730606e-01,  5.48889577e-01, -6.58322155e-01,\n",
       "         5.69213331e-01, -5.99537909e-01, -4.67587309e-03,  8.17323744e-01,\n",
       "        -1.22800934e+00, -5.16984463e-01, -7.95330882e-01, -6.14436984e-01,\n",
       "        -1.36464508e-02,  2.94787735e-01, -6.50723934e-01,  3.54044855e-01,\n",
       "         4.35291678e-01, -7.17840418e-02, -6.39285624e-01, -2.89890051e-01,\n",
       "        -1.13435432e-01,  1.09886897e+00, -9.04431701e-01, -4.54281747e-01,\n",
       "         3.02922606e-01,  1.19364452e+00,  7.15448847e-03,  2.83730656e-01,\n",
       "         2.66759038e-01,  5.15723117e-02,  8.29138517e-01,  4.45829391e-01,\n",
       "         1.60179365e+00, -6.11354589e-01, -6.53910816e-01,  5.15186079e-02,\n",
       "        -1.83479339e-02, -2.01477498e-01,  1.19657564e+00, -1.10689092e+00,\n",
       "        -2.39091247e-01, -9.09660757e-01, -8.93339157e-01, -4.93796051e-01,\n",
       "        -6.56077564e-01,  3.27602208e-01,  4.84739095e-01,  2.53193051e-01,\n",
       "        -5.91085494e-01, -4.07943159e-01,  1.14178471e-01, -1.03034273e-01,\n",
       "        -3.47348660e-01,  3.25244814e-01,  4.72948462e-01, -5.98217547e-01,\n",
       "         8.59140381e-02,  5.56879699e-01, -1.14778340e+00,  2.99973875e-01,\n",
       "         2.24288538e-01,  7.23279864e-02,  1.83160931e-01,  3.06960821e-01,\n",
       "         1.44140765e-01,  6.75179303e-01, -1.57277614e-01,  5.70307374e-01,\n",
       "        -1.75566167e-01, -6.33187115e-01,  4.74327981e-01, -3.96147221e-01,\n",
       "        -1.13255791e-01, -6.51687458e-02,  1.11609079e-01, -5.00956118e-01,\n",
       "         2.61474997e-01, -9.48590517e-01,  4.88664865e-01,  8.55031237e-02,\n",
       "        -7.05826700e-01, -1.37298524e+00, -1.10790873e+00, -6.35834694e-01,\n",
       "         2.82008410e-01, -3.76349211e-01, -3.29186857e-01,  2.33161479e-01,\n",
       "         8.25529248e-02,  5.31854928e-01,  9.41826344e-01,  1.45433053e-01,\n",
       "         9.02215540e-01, -9.35429096e-01, -2.54744351e-01, -2.36809000e-01,\n",
       "         4.32434231e-01,  3.00550461e-02, -9.33377028e-01, -1.21359301e+00,\n",
       "        -7.83307314e-01, -4.67202179e-02,  3.91152918e-01, -3.02688986e-01,\n",
       "         9.90896821e-02, -3.95906508e-01,  1.58712387e-01,  2.40574509e-01,\n",
       "         1.17159998e+00, -4.69307095e-01, -8.72419477e-02, -2.42994234e-01,\n",
       "        -1.16280496e+00, -9.24451351e-01,  1.72312006e-01,  4.43761379e-01,\n",
       "         8.25609386e-01, -3.78405184e-01, -4.49118406e-01, -5.00256121e-01,\n",
       "        -6.77083060e-02,  3.80605042e-01, -2.27991357e-01, -5.93445539e-01,\n",
       "         6.74318299e-02, -6.50516510e-01, -4.89558458e-01,  4.42197502e-01,\n",
       "         5.33500984e-02,  2.07411572e-01, -2.82677412e-01, -5.19939661e-01,\n",
       "        -2.91774035e-01,  1.07640183e+00, -3.10963064e-01,  4.96009678e-01,\n",
       "        -8.46886709e-02, -4.68344204e-02,  1.55072466e-01,  3.06602240e-01,\n",
       "        -3.50142032e-01,  8.36113095e-01,  3.74388367e-01,  3.25811923e-01,\n",
       "         1.11304663e-01, -4.46703464e-01,  1.41958967e-01,  9.37383771e-01,\n",
       "         3.97666574e-01,  1.11198449e+00, -9.52302039e-01, -8.39004815e-01,\n",
       "        -7.89858043e-01,  2.17784688e-01, -3.42127979e-01, -4.71128225e-01,\n",
       "        -9.04677153e-01, -1.39563277e-01, -3.82998794e-01,  6.45711720e-01,\n",
       "         3.15710306e-01, -5.73695898e-02,  8.62712562e-01,  1.22652076e-01,\n",
       "         1.17579937e-01,  3.72860312e-01, -2.74038672e-01,  2.22748801e-01,\n",
       "         3.90177995e-01,  6.88890398e-01,  3.36789005e-02, -6.99307323e-01,\n",
       "        -1.96101959e-03, -4.73996520e-01, -2.06439316e-01, -2.65474673e-02,\n",
       "         5.99336736e-02,  6.82255983e-01, -5.83961308e-01, -3.17182153e-01,\n",
       "        -3.29422861e-01, -6.77638888e-01,  4.18422729e-01,  4.92016941e-01,\n",
       "        -7.30953217e-01,  1.16797364e+00,  6.74720824e-01, -1.24867511e+00,\n",
       "         1.04355562e+00, -4.44852978e-01, -6.54254615e-01,  4.68785852e-01,\n",
       "        -5.79117060e-01,  3.85487556e-01, -1.38224339e+00,  1.07326305e+00,\n",
       "        -7.53592849e-02, -9.86761510e-01,  1.76051229e-01, -6.04957402e-01,\n",
       "        -1.41975451e+00, -4.28353697e-01, -2.97895312e-01,  5.45058353e-03,\n",
       "         2.82683939e-01,  5.48837669e-02,  8.95801663e-01,  1.82961136e-01,\n",
       "        -6.88354746e-02,  1.44813448e-01,  4.30561066e-01, -3.40053648e-01,\n",
       "        -6.33579865e-02, -2.12242454e-02, -1.08611071e+00, -4.18740809e-01,\n",
       "        -4.92799550e-01, -5.40611446e-01,  7.58113921e-01,  6.19245112e-01,\n",
       "         3.19218576e-01,  5.18694401e-01,  1.05745184e+00, -1.17822021e-01,\n",
       "         2.17323005e-01, -1.11354160e+00, -1.96727708e-01,  2.90036112e-01,\n",
       "        -3.33278090e-01, -1.06509268e+00,  7.41529822e-01, -9.11323130e-01,\n",
       "        -4.98407662e-01,  4.33399647e-01,  1.04382038e+00,  2.98673391e-01,\n",
       "         3.61586571e-01,  1.16581142e+00,  2.55113631e-03, -7.77278244e-02,\n",
       "        -7.79258132e-01, -8.62333596e-01, -9.74223971e-01,  1.21204102e+00,\n",
       "        -9.86570358e-01,  2.76693910e-01, -6.01551414e-01,  5.76185405e-01,\n",
       "         1.41929781e+00,  9.29618534e-03, -7.70978332e-01,  4.59970087e-01,\n",
       "         6.50618076e-01, -1.90916240e+00, -4.95172650e-01, -7.55705357e-01,\n",
       "         6.72842205e-01, -1.02314579e+00, -4.33859527e-01, -3.75969291e-01,\n",
       "         1.08942494e-01,  5.24141788e-01, -1.38322785e-01, -1.35337389e+00,\n",
       "        -1.06299257e+00, -2.46029302e-01,  1.39045322e+00, -7.35106245e-02,\n",
       "         2.56766140e-01, -1.33087620e-01, -1.64986706e+00,  8.56948078e-01,\n",
       "         3.18560660e-01,  6.54149473e-01, -6.24189854e-01,  9.49900568e-01,\n",
       "        -6.78766131e-01,  5.51595330e-01,  3.55769068e-01,  4.71173674e-01,\n",
       "         2.35854045e-01, -1.33963656e+00,  3.82115066e-01,  2.06844449e-01,\n",
       "        -8.33682716e-01, -1.10533804e-01,  4.30308908e-01, -3.60697776e-01,\n",
       "         1.20699835e+00, -4.06207174e-01,  2.40413815e-01, -7.98806250e-01,\n",
       "         5.30194700e-01, -5.60489073e-02, -5.74487329e-01,  4.22263384e-01,\n",
       "         1.48413226e-01, -2.37866655e-01,  4.23385024e-01,  1.39326096e-01,\n",
       "        -1.05591774e+00,  9.71632004e-01, -1.93453491e-01, -7.86779284e-01,\n",
       "        -7.63098538e-01,  3.80122334e-01,  8.48069321e-03,  3.27939093e-01,\n",
       "        -7.42778599e-01, -4.70177144e-01,  1.05464935e-01,  1.29467821e+00,\n",
       "         1.24972856e+00,  5.22603750e-01,  6.31480157e-01,  3.04032177e-01,\n",
       "         5.48070073e-01,  2.68049747e-01, -1.12439764e+00, -1.44387341e+00,\n",
       "        -2.07460791e-01, -1.20366953e-01, -8.06260034e-02,  2.41586015e-01,\n",
       "        -5.13644144e-02,  1.04996227e-01,  4.38239902e-01,  7.13086784e-01,\n",
       "        -3.17064673e-01,  9.80988026e-01,  9.22829092e-01, -4.81537580e-01,\n",
       "        -8.91630590e-01,  1.67006642e-01,  5.14251769e-01, -1.09935296e+00,\n",
       "        -6.25460148e-01, -3.49679999e-02,  3.04732412e-01,  8.64541113e-01,\n",
       "        -7.02533945e-02, -5.57276845e-01,  3.12846899e-01,  9.39211175e-02,\n",
       "         2.66612172e-01, -3.34945947e-01,  4.90482673e-02,  9.53152120e-01,\n",
       "        -5.36436923e-02,  3.11481386e-01,  4.38132495e-01, -2.41703406e-01,\n",
       "        -8.09544384e-01,  4.33222018e-02, -3.20626080e-01, -2.99391866e-01,\n",
       "         4.83941026e-02,  2.12513399e+00,  4.39023107e-01,  5.43491960e-01,\n",
       "        -3.46956491e-01,  4.52459693e-01,  5.72754085e-01,  2.87834257e-01,\n",
       "         4.28200290e-02,  8.72407109e-02, -4.49139297e-01, -2.32931331e-01,\n",
       "        -1.86900839e-01,  4.88366127e-01,  6.20931759e-02,  4.67716008e-01,\n",
       "         1.09956704e-01, -1.50789274e-02,  2.91262358e-01,  1.01119049e-01,\n",
       "         1.34275824e-01, -4.50561762e-01,  6.20632544e-02, -1.72771942e-02,\n",
       "        -6.17054105e-01, -8.60518992e-01, -9.10934865e-01, -7.24559844e-01,\n",
       "        -1.27559733e+00,  8.16068709e-01,  5.07834554e-01,  3.89077663e-01,\n",
       "         1.49669603e-01,  5.72259188e-01,  1.52809918e-01, -1.94078267e-01],\n",
       "       dtype=float32)]"
      ]
     },
     "execution_count": 4,
     "metadata": {},
     "output_type": "execute_result"
    }
   ],
   "source": [
    "model.encode([\"Machine Learning Tokyo is an awesome community. By the way, I like mangos.\"])"
   ]
  },
  {
   "cell_type": "code",
   "execution_count": 5,
   "metadata": {},
   "outputs": [],
   "source": [
    "from twitterscraper import query_tweets, query_tweets_from_user"
   ]
  },
  {
   "cell_type": "code",
   "execution_count": 6,
   "metadata": {},
   "outputs": [],
   "source": [
    "from twitterscraper.query import query_single_page"
   ]
  },
  {
   "cell_type": "code",
   "execution_count": 10,
   "metadata": {},
   "outputs": [],
   "source": [
    "def query_tweets_from_user_custom(user, lang, limit=40):\n",
    "    pos=None\n",
    "    tweets = []\n",
    "    while True:\n",
    "        new_tweets, pos = query_single_page(user, lang=lang, pos=pos, from_user=True, use_proxy=True)\n",
    "        if len(new_tweets) == 0:\n",
    "            return tweets\n",
    "        tweets += new_tweets\n",
    "        if len(tweets) >= limit:\n",
    "            return tweets"
   ]
  },
  {
   "cell_type": "code",
   "execution_count": 61,
   "metadata": {},
   "outputs": [],
   "source": [
    "%%time\n",
    "results = []\n",
    "name_dict = dict()\n",
    "for screen_name in ['peacej','suzatweet','geoffreyhinton','kaifulee','GoogleAI','AndrewYNg','OpenAI',\n",
    "                    'kdnuggets','ylecun','lexfridman','facebookai','drfeifei','elonmusk','sama','goodfellow_ian',\n",
    "                    'TensorFlow','PyTorch','SebastianThrun','NumFOCUS','hardmaru','AllenNLP','JeffDean','OpenAI','huggingface',\n",
    "                    'chrmanning','DeepMind','GoogleBrain','__MLT__','rheza_h','fchollet'\n",
    "                   ]:\n",
    "    for tweet in query_tweets_from_user_custom(screen_name,limit=40,lang='en'):\n",
    "        if screen_name not in name_dict:\n",
    "            if screen_name == tweet.screen_name:\n",
    "                name_dict[screen_name] = tweet.username # if not equal, probably because it's a retweet\n",
    "            else:\n",
    "                continue\n",
    "        text = tweet.text\n",
    "        for link in tweet.links:\n",
    "            text = text.replace(link,'')\n",
    "        if len(text) < 5:\n",
    "            continue\n",
    "        results.append([screen_name,name_dict[screen_name],text])"
   ]
  },
  {
   "cell_type": "code",
   "execution_count": 62,
   "metadata": {},
   "outputs": [],
   "source": [
    "df = pd.DataFrame(results, columns=['screen_name','user_name','text'])"
   ]
  },
  {
   "cell_type": "code",
   "execution_count": 63,
   "metadata": {},
   "outputs": [
    {
     "data": {
      "text/plain": [
       "1289"
      ]
     },
     "execution_count": 63,
     "metadata": {},
     "output_type": "execute_result"
    }
   ],
   "source": [
    "len(df)"
   ]
  },
  {
   "cell_type": "code",
   "execution_count": 64,
   "metadata": {},
   "outputs": [
    {
     "name": "stdout",
     "output_type": "stream",
     "text": [
      "CPU times: user 4min 15s, sys: 13.1 s, total: 4min 28s\n",
      "Wall time: 50.9 s\n"
     ]
    }
   ],
   "source": [
    "%%time\n",
    "df['embedding'] = model.encode(df['text'].tolist())"
   ]
  },
  {
   "cell_type": "code",
   "execution_count": 65,
   "metadata": {},
   "outputs": [],
   "source": [
    "df['user_name'] = df['user_name'].apply(lambda x: x.replace('ć','c')) # tensorboard visualization can't handle special characters?"
   ]
  },
  {
   "cell_type": "code",
   "execution_count": 66,
   "metadata": {},
   "outputs": [
    {
     "data": {
      "text/html": [
       "<div>\n",
       "<style scoped>\n",
       "    .dataframe tbody tr th:only-of-type {\n",
       "        vertical-align: middle;\n",
       "    }\n",
       "\n",
       "    .dataframe tbody tr th {\n",
       "        vertical-align: top;\n",
       "    }\n",
       "\n",
       "    .dataframe thead th {\n",
       "        text-align: right;\n",
       "    }\n",
       "</style>\n",
       "<table border=\"1\" class=\"dataframe\">\n",
       "  <thead>\n",
       "    <tr style=\"text-align: right;\">\n",
       "      <th></th>\n",
       "      <th>screen_name</th>\n",
       "      <th>user_name</th>\n",
       "      <th>text</th>\n",
       "      <th>embedding</th>\n",
       "    </tr>\n",
       "  </thead>\n",
       "  <tbody>\n",
       "    <tr>\n",
       "      <td>0</td>\n",
       "      <td>peacej</td>\n",
       "      <td>Jerry Chi</td>\n",
       "      <td>Spark Meetup Tokyo #3 Onlineに参加を申し込みました！  … #s...</td>\n",
       "      <td>[-0.37950185, -0.6813484, 0.4439314, -0.868268...</td>\n",
       "    </tr>\n",
       "    <tr>\n",
       "      <td>1</td>\n",
       "      <td>peacej</td>\n",
       "      <td>Jerry Chi</td>\n",
       "      <td>I'll be giving an online technical talk about ...</td>\n",
       "      <td>[0.21104087, -0.030900031, 0.67631316, -0.5976...</td>\n",
       "    </tr>\n",
       "    <tr>\n",
       "      <td>2</td>\n",
       "      <td>peacej</td>\n",
       "      <td>Jerry Chi</td>\n",
       "      <td>I have a joke about Gaussian processes, but yo...</td>\n",
       "      <td>[-0.049494036, -0.27678245, 1.2959975, -0.1334...</td>\n",
       "    </tr>\n",
       "    <tr>\n",
       "      <td>3</td>\n",
       "      <td>peacej</td>\n",
       "      <td>Jerry Chi</td>\n",
       "      <td>We're hiring in Tokyo! (considerable ML experi...</td>\n",
       "      <td>[-0.5225698, -0.59153587, 0.49577758, -1.04341...</td>\n",
       "    </tr>\n",
       "    <tr>\n",
       "      <td>4</td>\n",
       "      <td>peacej</td>\n",
       "      <td>Jerry Chi</td>\n",
       "      <td>I'm happy this little-known data scientist hel...</td>\n",
       "      <td>[-0.357002, -0.23999633, -0.1265356, -0.665570...</td>\n",
       "    </tr>\n",
       "  </tbody>\n",
       "</table>\n",
       "</div>"
      ],
      "text/plain": [
       "  screen_name  user_name                                               text  \\\n",
       "0      peacej  Jerry Chi  Spark Meetup Tokyo #3 Onlineに参加を申し込みました！  … #s...   \n",
       "1      peacej  Jerry Chi  I'll be giving an online technical talk about ...   \n",
       "2      peacej  Jerry Chi  I have a joke about Gaussian processes, but yo...   \n",
       "3      peacej  Jerry Chi  We're hiring in Tokyo! (considerable ML experi...   \n",
       "4      peacej  Jerry Chi  I'm happy this little-known data scientist hel...   \n",
       "\n",
       "                                           embedding  \n",
       "0  [-0.37950185, -0.6813484, 0.4439314, -0.868268...  \n",
       "1  [0.21104087, -0.030900031, 0.67631316, -0.5976...  \n",
       "2  [-0.049494036, -0.27678245, 1.2959975, -0.1334...  \n",
       "3  [-0.5225698, -0.59153587, 0.49577758, -1.04341...  \n",
       "4  [-0.357002, -0.23999633, -0.1265356, -0.665570...  "
      ]
     },
     "execution_count": 66,
     "metadata": {},
     "output_type": "execute_result"
    }
   ],
   "source": [
    "df.head(5)"
   ]
  },
  {
   "cell_type": "code",
   "execution_count": 67,
   "metadata": {},
   "outputs": [],
   "source": [
    "def elementwise_avg(arr):\n",
    "    return np.mean(np.array(arr), axis=0).tolist()"
   ]
  },
  {
   "cell_type": "code",
   "execution_count": 68,
   "metadata": {},
   "outputs": [],
   "source": [
    "dfagg = df.groupby('user_name').aggregate({'embedding':elementwise_avg}).reset_index()"
   ]
  },
  {
   "cell_type": "code",
   "execution_count": 69,
   "metadata": {},
   "outputs": [
    {
     "data": {
      "text/html": [
       "<div>\n",
       "<style scoped>\n",
       "    .dataframe tbody tr th:only-of-type {\n",
       "        vertical-align: middle;\n",
       "    }\n",
       "\n",
       "    .dataframe tbody tr th {\n",
       "        vertical-align: top;\n",
       "    }\n",
       "\n",
       "    .dataframe thead th {\n",
       "        text-align: right;\n",
       "    }\n",
       "</style>\n",
       "<table border=\"1\" class=\"dataframe\">\n",
       "  <thead>\n",
       "    <tr style=\"text-align: right;\">\n",
       "      <th></th>\n",
       "      <th>user_name</th>\n",
       "      <th>embedding</th>\n",
       "    </tr>\n",
       "  </thead>\n",
       "  <tbody>\n",
       "    <tr>\n",
       "      <td>0</td>\n",
       "      <td>Andrew Ng</td>\n",
       "      <td>[-0.17855486273765564, -0.22813737392425537, 0...</td>\n",
       "    </tr>\n",
       "    <tr>\n",
       "      <td>1</td>\n",
       "      <td>Christopher Manning</td>\n",
       "      <td>[-0.3423832952976227, -0.20097926259040833, 0....</td>\n",
       "    </tr>\n",
       "    <tr>\n",
       "      <td>2</td>\n",
       "      <td>DeepMind</td>\n",
       "      <td>[-0.24083568155765533, -0.14192964136600494, 0...</td>\n",
       "    </tr>\n",
       "    <tr>\n",
       "      <td>3</td>\n",
       "      <td>Elon Musk</td>\n",
       "      <td>[-0.3248625099658966, -0.26285520195961, 0.471...</td>\n",
       "    </tr>\n",
       "    <tr>\n",
       "      <td>4</td>\n",
       "      <td>Facebook AI</td>\n",
       "      <td>[-0.19221384823322296, -0.3242705464363098, 0....</td>\n",
       "    </tr>\n",
       "    <tr>\n",
       "      <td>5</td>\n",
       "      <td>Fei-Fei Li</td>\n",
       "      <td>[-0.20383456349372864, -0.19125691056251526, 0...</td>\n",
       "    </tr>\n",
       "    <tr>\n",
       "      <td>6</td>\n",
       "      <td>François Chollet</td>\n",
       "      <td>[-0.3811887502670288, -0.31465452909469604, 0....</td>\n",
       "    </tr>\n",
       "    <tr>\n",
       "      <td>7</td>\n",
       "      <td>Geoffrey Hinton</td>\n",
       "      <td>[-0.3778385818004608, -0.30991941690444946, 0....</td>\n",
       "    </tr>\n",
       "    <tr>\n",
       "      <td>8</td>\n",
       "      <td>Google AI</td>\n",
       "      <td>[-0.4932260811328888, -0.18140526115894318, 0....</td>\n",
       "    </tr>\n",
       "    <tr>\n",
       "      <td>9</td>\n",
       "      <td>Hugging Face</td>\n",
       "      <td>[-0.37294384837150574, -0.29550179839134216, 0...</td>\n",
       "    </tr>\n",
       "    <tr>\n",
       "      <td>10</td>\n",
       "      <td>Ian Goodfellow</td>\n",
       "      <td>[-0.24418611824512482, -0.2052377611398697, 0....</td>\n",
       "    </tr>\n",
       "    <tr>\n",
       "      <td>11</td>\n",
       "      <td>Jeff Dean (@🏡)</td>\n",
       "      <td>[-0.20390883088111877, -0.3952789604663849, 0....</td>\n",
       "    </tr>\n",
       "    <tr>\n",
       "      <td>12</td>\n",
       "      <td>Jerry Chi</td>\n",
       "      <td>[-0.367435485124588, -0.3884568214416504, 0.56...</td>\n",
       "    </tr>\n",
       "    <tr>\n",
       "      <td>13</td>\n",
       "      <td>KDnuggets</td>\n",
       "      <td>[-0.6523799300193787, -0.3138795495033264, 0.4...</td>\n",
       "    </tr>\n",
       "    <tr>\n",
       "      <td>14</td>\n",
       "      <td>Kai-Fu Lee</td>\n",
       "      <td>[-0.30624228715896606, -0.20987550914287567, 0...</td>\n",
       "    </tr>\n",
       "    <tr>\n",
       "      <td>15</td>\n",
       "      <td>Lex Fridman</td>\n",
       "      <td>[-0.32401344180107117, -0.3205002546310425, 0....</td>\n",
       "    </tr>\n",
       "    <tr>\n",
       "      <td>16</td>\n",
       "      <td>MLT</td>\n",
       "      <td>[-0.3649821877479553, -0.29819634556770325, 0....</td>\n",
       "    </tr>\n",
       "    <tr>\n",
       "      <td>17</td>\n",
       "      <td>NumFOCUS</td>\n",
       "      <td>[-0.3403870165348053, -0.07363969832658768, 0....</td>\n",
       "    </tr>\n",
       "    <tr>\n",
       "      <td>18</td>\n",
       "      <td>OpenAI</td>\n",
       "      <td>[-0.271178275346756, -0.36983123421669006, 0.7...</td>\n",
       "    </tr>\n",
       "    <tr>\n",
       "      <td>19</td>\n",
       "      <td>PyTorch</td>\n",
       "      <td>[-0.5600537061691284, -0.344414621591568, 0.75...</td>\n",
       "    </tr>\n",
       "  </tbody>\n",
       "</table>\n",
       "</div>"
      ],
      "text/plain": [
       "              user_name                                          embedding\n",
       "0             Andrew Ng  [-0.17855486273765564, -0.22813737392425537, 0...\n",
       "1   Christopher Manning  [-0.3423832952976227, -0.20097926259040833, 0....\n",
       "2              DeepMind  [-0.24083568155765533, -0.14192964136600494, 0...\n",
       "3             Elon Musk  [-0.3248625099658966, -0.26285520195961, 0.471...\n",
       "4           Facebook AI  [-0.19221384823322296, -0.3242705464363098, 0....\n",
       "5            Fei-Fei Li  [-0.20383456349372864, -0.19125691056251526, 0...\n",
       "6      François Chollet  [-0.3811887502670288, -0.31465452909469604, 0....\n",
       "7       Geoffrey Hinton  [-0.3778385818004608, -0.30991941690444946, 0....\n",
       "8             Google AI  [-0.4932260811328888, -0.18140526115894318, 0....\n",
       "9          Hugging Face  [-0.37294384837150574, -0.29550179839134216, 0...\n",
       "10       Ian Goodfellow  [-0.24418611824512482, -0.2052377611398697, 0....\n",
       "11       Jeff Dean (@🏡)  [-0.20390883088111877, -0.3952789604663849, 0....\n",
       "12            Jerry Chi  [-0.367435485124588, -0.3884568214416504, 0.56...\n",
       "13            KDnuggets  [-0.6523799300193787, -0.3138795495033264, 0.4...\n",
       "14           Kai-Fu Lee  [-0.30624228715896606, -0.20987550914287567, 0...\n",
       "15          Lex Fridman  [-0.32401344180107117, -0.3205002546310425, 0....\n",
       "16                  MLT  [-0.3649821877479553, -0.29819634556770325, 0....\n",
       "17             NumFOCUS  [-0.3403870165348053, -0.07363969832658768, 0....\n",
       "18               OpenAI  [-0.271178275346756, -0.36983123421669006, 0.7...\n",
       "19              PyTorch  [-0.5600537061691284, -0.344414621591568, 0.75..."
      ]
     },
     "execution_count": 69,
     "metadata": {},
     "output_type": "execute_result"
    }
   ],
   "source": [
    "dfagg.head(20)"
   ]
  },
  {
   "cell_type": "code",
   "execution_count": 1,
   "metadata": {},
   "outputs": [],
   "source": [
    "import tensorflow as tf\n",
    "import tensorboard as tb\n",
    "import datetime, os\n",
    "from torch.utils.tensorboard import SummaryWriter\n",
    "tf.io.gfile = tb.compat.tensorflow_stub.io.gfile"
   ]
  },
  {
   "cell_type": "code",
   "execution_count": 37,
   "metadata": {},
   "outputs": [],
   "source": [
    "%load_ext tensorboard"
   ]
  },
  {
   "cell_type": "code",
   "execution_count": 70,
   "metadata": {},
   "outputs": [],
   "source": [
    "vectors = np.array([np.array(x) for x in dfagg['embedding']])\n",
    "metadata = dfagg['user_name'].tolist()\n",
    "writer = SummaryWriter()\n",
    "writer.add_embedding(vectors, metadata)\n",
    "writer.close()"
   ]
  },
  {
   "cell_type": "code",
   "execution_count": 72,
   "metadata": {
    "scrolled": false
   },
   "outputs": [
    {
     "data": {
      "text/plain": [
       "Reusing TensorBoard on port 6006 (pid 84285), started 0:26:22 ago. (Use '!kill 84285' to kill it.)"
      ]
     },
     "metadata": {},
     "output_type": "display_data"
    },
    {
     "data": {
      "text/html": [
       "\n",
       "      <iframe id=\"tensorboard-frame-cc3d1211cf4d691\" width=\"100%\" height=\"800\" frameborder=\"0\">\n",
       "      </iframe>\n",
       "      <script>\n",
       "        (function() {\n",
       "          const frame = document.getElementById(\"tensorboard-frame-cc3d1211cf4d691\");\n",
       "          const url = new URL(\"/\", window.location);\n",
       "          url.port = 6006;\n",
       "          frame.src = url;\n",
       "        })();\n",
       "      </script>\n",
       "  "
      ],
      "text/plain": [
       "<IPython.core.display.HTML object>"
      ]
     },
     "metadata": {},
     "output_type": "display_data"
    }
   ],
   "source": [
    "%tensorboard --logdir=runs"
   ]
  },
  {
   "cell_type": "code",
   "execution_count": 29,
   "metadata": {},
   "outputs": [
    {
     "data": {
      "text/plain": [
       "{'screen_name': 'peacej',\n",
       " 'username': 'Jerry Chi',\n",
       " 'user_id': '20598022',\n",
       " 'tweet_id': '1288824131618607104',\n",
       " 'tweet_url': '/peacej/status/1288824131618607104',\n",
       " 'timestamp': datetime.datetime(2020, 7, 30, 13, 9, 52),\n",
       " 'timestamp_epochs': 1596114592,\n",
       " 'text': 'Spark Meetup Tokyo #3 Onlineに参加を申し込みました！ https://spark-meetup-tokyo.connpass.com/event/181422/?utm_campaign=event_participate_to_follower&utm_source=notifications&utm_medium=twitter\\xa0… #sparktokyo',\n",
       " 'text_html': '<p class=\"TweetTextSize TweetTextSize--normal js-tweet-text tweet-text\" data-aria-label-part=\"0\" lang=\"ja\">Spark Meetup Tokyo #3 Onlineに参加を申し込みました！ <a class=\"twitter-timeline-link\" data-expanded-url=\"https://spark-meetup-tokyo.connpass.com/event/181422/?utm_campaign=event_participate_to_follower&amp;utm_source=notifications&amp;utm_medium=twitter\" dir=\"ltr\" href=\"https://t.co/upwzeSK5Zy\" rel=\"nofollow noopener\" target=\"_blank\" title=\"https://spark-meetup-tokyo.connpass.com/event/181422/?utm_campaign=event_participate_to_follower&amp;utm_source=notifications&amp;utm_medium=twitter\"><span class=\"tco-ellipsis\"></span><span class=\"invisible\">https://</span><span class=\"js-display-url\">spark-meetup-tokyo.connpass.com/event/181422/?</span><span class=\"invisible\">utm_campaign=event_participate_to_follower&amp;utm_source=notifications&amp;utm_medium=twitter</span><span class=\"tco-ellipsis\"><span class=\"invisible\">\\xa0</span>…</span></a> <a class=\"twitter-hashtag pretty-link js-nav\" data-query-source=\"hashtag_click\" dir=\"ltr\" href=\"/hashtag/sparktokyo?src=hash\"><s>#</s><b>sparktokyo</b></a></p>',\n",
       " 'links': ['https://spark-meetup-tokyo.connpass.com/event/181422/?utm_campaign=event_participate_to_follower&utm_source=notifications&utm_medium=twitter'],\n",
       " 'hashtags': ['3', 'sparktokyo'],\n",
       " 'has_media': False,\n",
       " 'img_urls': [],\n",
       " 'video_url': '',\n",
       " 'likes': 0,\n",
       " 'retweets': 0,\n",
       " 'replies': 0,\n",
       " 'is_replied': False,\n",
       " 'is_reply_to': False,\n",
       " 'parent_tweet_id': '',\n",
       " 'reply_to_users': []}"
      ]
     },
     "execution_count": 29,
     "metadata": {},
     "output_type": "execute_result"
    }
   ],
   "source": [
    "#tweet object example"
   ]
  },
  {
   "cell_type": "code",
   "execution_count": null,
   "metadata": {},
   "outputs": [],
   "source": []
  }
 ],
 "metadata": {
  "kernelspec": {
   "display_name": "Python 3",
   "language": "python",
   "name": "python3"
  },
  "language_info": {
   "codemirror_mode": {
    "name": "ipython",
    "version": 3
   },
   "file_extension": ".py",
   "mimetype": "text/x-python",
   "name": "python",
   "nbconvert_exporter": "python",
   "pygments_lexer": "ipython3",
   "version": "3.6.9"
  }
 },
 "nbformat": 4,
 "nbformat_minor": 2
}
