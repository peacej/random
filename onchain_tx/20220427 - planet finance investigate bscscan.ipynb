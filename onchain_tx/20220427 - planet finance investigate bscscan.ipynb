{
 "cells": [
  {
   "cell_type": "code",
   "execution_count": 39,
   "id": "206b6416-b246-4a75-b059-5c0e41f970be",
   "metadata": {},
   "outputs": [],
   "source": [
    "import pandas as pd\n",
    "import numpy as np\n",
    "import json\n",
    "import copy"
   ]
  },
  {
   "cell_type": "code",
   "execution_count": 11,
   "id": "e699f14d-1523-4023-ac08-91f99eae2e9b",
   "metadata": {},
   "outputs": [],
   "source": [
    "addr_map = {'0x0ac58fd25f334975b1b61732cf79564b6200a933': 'farm',\n",
    "            '0xcc0250698919448e2e90f0f0a780addc97a332f5': 'vault',\n",
    "            '0x10baff2188e6cee33e858c6913ef8616dc0a3e9c': 'fee'}"
   ]
  },
  {
   "cell_type": "code",
   "execution_count": 3,
   "id": "a59cc252-c6eb-4fa8-9a24-126e034fe5c8",
   "metadata": {},
   "outputs": [],
   "source": [
    "df = pd.read_csv(\"/Users/jchi/Downloads/vault_merged.csv\") # from https://bscscan.com/address/0xcc0250698919448e2E90f0F0a780addC97a332F5#tokentxns, exported\n",
    "#df contains the token transactions of the vault contract"
   ]
  },
  {
   "cell_type": "code",
   "execution_count": 15,
   "id": "6b7cf655-dc5a-4b94-958f-b7aaf1762a83",
   "metadata": {},
   "outputs": [],
   "source": [
    "dfbackup = df.copy()"
   ]
  },
  {
   "cell_type": "code",
   "execution_count": 6,
   "id": "7ccf5871-a9ff-466d-b35a-f4da3200e952",
   "metadata": {},
   "outputs": [
    {
     "data": {
      "text/plain": [
       "0x0ac58fd25f334975b1b61732cf79564b6200a933    4742\n",
       "0xcc0250698919448e2e90f0f0a780addc97a332f5    4630\n",
       "Name: From, dtype: int64"
      ]
     },
     "execution_count": 6,
     "metadata": {},
     "output_type": "execute_result"
    }
   ],
   "source": [
    "df['From'].value_counts()"
   ]
  },
  {
   "cell_type": "code",
   "execution_count": 7,
   "id": "274593b7-8504-4b7a-ab75-eb190a6893f2",
   "metadata": {},
   "outputs": [
    {
     "data": {
      "text/plain": [
       "0xcc0250698919448e2e90f0f0a780addc97a332f5    4742\n",
       "0x10baff2188e6cee33e858c6913ef8616dc0a3e9c    2315\n",
       "0x0ac58fd25f334975b1b61732cf79564b6200a933    2315\n",
       "Name: To, dtype: int64"
      ]
     },
     "execution_count": 7,
     "metadata": {},
     "output_type": "execute_result"
    }
   ],
   "source": [
    "df['To'].value_counts()"
   ]
  },
  {
   "cell_type": "code",
   "execution_count": 68,
   "id": "04926ebf-eaf5-4e42-8fbc-9e0eb867e0dd",
   "metadata": {},
   "outputs": [],
   "source": [
    "MY_WALLET = '0xf8375F52a94CfdE7279B22dA6654F3cd3E39BCee'.lower()"
   ]
  },
  {
   "cell_type": "code",
   "execution_count": 17,
   "id": "32b4f477-6583-4d86-bae8-fd34136c041f",
   "metadata": {},
   "outputs": [],
   "source": [
    "df['From'] = df['From'].apply(lambda x: addr_map[x])\n",
    "df['To'] = df['To'].apply(lambda x: addr_map[x])"
   ]
  },
  {
   "cell_type": "code",
   "execution_count": 19,
   "id": "d5f28778-3c41-4f67-9aa8-a1da0f6f3532",
   "metadata": {},
   "outputs": [
    {
     "data": {
      "text/html": [
       "<div>\n",
       "<style scoped>\n",
       "    .dataframe tbody tr th:only-of-type {\n",
       "        vertical-align: middle;\n",
       "    }\n",
       "\n",
       "    .dataframe tbody tr th {\n",
       "        vertical-align: top;\n",
       "    }\n",
       "\n",
       "    .dataframe thead th {\n",
       "        text-align: right;\n",
       "    }\n",
       "</style>\n",
       "<table border=\"1\" class=\"dataframe\">\n",
       "  <thead>\n",
       "    <tr style=\"text-align: right;\">\n",
       "      <th></th>\n",
       "      <th>Txhash</th>\n",
       "      <th>UnixTimestamp</th>\n",
       "      <th>DateTime</th>\n",
       "      <th>From</th>\n",
       "      <th>To</th>\n",
       "      <th>Value</th>\n",
       "      <th>ContractAddress</th>\n",
       "      <th>TokenName</th>\n",
       "      <th>TokenSymbol</th>\n",
       "    </tr>\n",
       "  </thead>\n",
       "  <tbody>\n",
       "    <tr>\n",
       "      <th>0</th>\n",
       "      <td>0x90ebd4f8a795869e5cb45cbdf6d3a1208ee716d93ecb...</td>\n",
       "      <td>1628253650</td>\n",
       "      <td>2021-08-06 12:40:50</td>\n",
       "      <td>farm</td>\n",
       "      <td>vault</td>\n",
       "      <td>0.047620</td>\n",
       "      <td>0x74d51fc48013546d716a7884cc69d0bb75807f8a</td>\n",
       "      <td>Planet LPs</td>\n",
       "      <td>Net-LP</td>\n",
       "    </tr>\n",
       "    <tr>\n",
       "      <th>1</th>\n",
       "      <td>0x219b916ac39f19249fa1e23950e6c954c9c62439ab13...</td>\n",
       "      <td>1628483755</td>\n",
       "      <td>2021-08-09 04:35:55</td>\n",
       "      <td>farm</td>\n",
       "      <td>vault</td>\n",
       "      <td>1.000029</td>\n",
       "      <td>0x74d51fc48013546d716a7884cc69d0bb75807f8a</td>\n",
       "      <td>Planet LPs</td>\n",
       "      <td>Net-LP</td>\n",
       "    </tr>\n",
       "    <tr>\n",
       "      <th>2</th>\n",
       "      <td>0x952ba09d28a7c90f97870648e01482979d5518723bc8...</td>\n",
       "      <td>1628485276</td>\n",
       "      <td>2021-08-09 05:01:16</td>\n",
       "      <td>farm</td>\n",
       "      <td>vault</td>\n",
       "      <td>10.499050</td>\n",
       "      <td>0x74d51fc48013546d716a7884cc69d0bb75807f8a</td>\n",
       "      <td>Planet LPs</td>\n",
       "      <td>Net-LP</td>\n",
       "    </tr>\n",
       "    <tr>\n",
       "      <th>3</th>\n",
       "      <td>0xc780efe472c281f8a858a1d4a530343724b06172513d...</td>\n",
       "      <td>1628537154</td>\n",
       "      <td>2021-08-09 19:25:54</td>\n",
       "      <td>farm</td>\n",
       "      <td>vault</td>\n",
       "      <td>10916.898504</td>\n",
       "      <td>0x74d51fc48013546d716a7884cc69d0bb75807f8a</td>\n",
       "      <td>Planet LPs</td>\n",
       "      <td>Net-LP</td>\n",
       "    </tr>\n",
       "    <tr>\n",
       "      <th>4</th>\n",
       "      <td>0xe3ef4d618a77e2f214c870afa162746768a0259d2003...</td>\n",
       "      <td>1628537340</td>\n",
       "      <td>2021-08-09 19:29:00</td>\n",
       "      <td>farm</td>\n",
       "      <td>vault</td>\n",
       "      <td>4959.992689</td>\n",
       "      <td>0x74d51fc48013546d716a7884cc69d0bb75807f8a</td>\n",
       "      <td>Planet LPs</td>\n",
       "      <td>Net-LP</td>\n",
       "    </tr>\n",
       "  </tbody>\n",
       "</table>\n",
       "</div>"
      ],
      "text/plain": [
       "                                              Txhash  UnixTimestamp  \\\n",
       "0  0x90ebd4f8a795869e5cb45cbdf6d3a1208ee716d93ecb...     1628253650   \n",
       "1  0x219b916ac39f19249fa1e23950e6c954c9c62439ab13...     1628483755   \n",
       "2  0x952ba09d28a7c90f97870648e01482979d5518723bc8...     1628485276   \n",
       "3  0xc780efe472c281f8a858a1d4a530343724b06172513d...     1628537154   \n",
       "4  0xe3ef4d618a77e2f214c870afa162746768a0259d2003...     1628537340   \n",
       "\n",
       "              DateTime  From     To         Value  \\\n",
       "0  2021-08-06 12:40:50  farm  vault      0.047620   \n",
       "1  2021-08-09 04:35:55  farm  vault      1.000029   \n",
       "2  2021-08-09 05:01:16  farm  vault     10.499050   \n",
       "3  2021-08-09 19:25:54  farm  vault  10916.898504   \n",
       "4  2021-08-09 19:29:00  farm  vault   4959.992689   \n",
       "\n",
       "                              ContractAddress   TokenName TokenSymbol  \n",
       "0  0x74d51fc48013546d716a7884cc69d0bb75807f8a  Planet LPs      Net-LP  \n",
       "1  0x74d51fc48013546d716a7884cc69d0bb75807f8a  Planet LPs      Net-LP  \n",
       "2  0x74d51fc48013546d716a7884cc69d0bb75807f8a  Planet LPs      Net-LP  \n",
       "3  0x74d51fc48013546d716a7884cc69d0bb75807f8a  Planet LPs      Net-LP  \n",
       "4  0x74d51fc48013546d716a7884cc69d0bb75807f8a  Planet LPs      Net-LP  "
      ]
     },
     "execution_count": 19,
     "metadata": {},
     "output_type": "execute_result"
    }
   ],
   "source": [
    "df.head()"
   ]
  },
  {
   "cell_type": "code",
   "execution_count": 20,
   "id": "190ac145-ec56-4512-a951-6a0fe76a1976",
   "metadata": {},
   "outputs": [
    {
     "data": {
      "text/plain": [
       "From   To   \n",
       "farm   vault    2.440085e+07\n",
       "vault  farm     2.437646e+07\n",
       "       fee      2.438418e+04\n",
       "Name: Value, dtype: float64"
      ]
     },
     "execution_count": 20,
     "metadata": {},
     "output_type": "execute_result"
    }
   ],
   "source": [
    "df.groupby(['From','To'])['Value'].sum()"
   ]
  },
  {
   "cell_type": "code",
   "execution_count": 146,
   "id": "621729aa-743d-4cea-9777-8cd6b7d49f00",
   "metadata": {},
   "outputs": [
    {
     "data": {
      "text/plain": [
       "From\n",
       "farm     2.440085e+07\n",
       "vault    2.440085e+07\n",
       "Name: Value, dtype: float64"
      ]
     },
     "execution_count": 146,
     "metadata": {},
     "output_type": "execute_result"
    }
   ],
   "source": [
    "df_agg = df.groupby('From')['Value'].sum(); df_agg"
   ]
  },
  {
   "cell_type": "code",
   "execution_count": 150,
   "id": "580ecbdc-4c21-4dcc-9da1-e5bff84905dd",
   "metadata": {},
   "outputs": [],
   "source": [
    "with open('/Users/jchi/Downloads/coval50000.csv') as json_file: #data from  curl -u <insert_api_key_here>:   -H 'Content-Type: application/json' -X GET \"https://api.covalenthq.com/v1/56/address/0x0ac58Fd25f334975b1B61732CF79564b6200A933/transfers_v2/?quote-currency=USD&format=JSON&contract-address=0x74d51fC48013546D716a7884cc69d0Bb75807f8A&page-size=50000\" \n",
    "    farm_dict = json.load(json_file)\n",
    "# contains all transaction data of the \"farm contract\" filtered to the transactions involving USDC-UST LP token."
   ]
  },
  {
   "cell_type": "code",
   "execution_count": 40,
   "id": "060e7106-84c9-400f-9050-5f5248818f4a",
   "metadata": {},
   "outputs": [],
   "source": [
    "farm_dict2 = copy.deepcopy(farm_dict)"
   ]
  },
  {
   "cell_type": "code",
   "execution_count": 41,
   "id": "543b1c6c-ea69-4aa0-9595-837e466bd3bd",
   "metadata": {},
   "outputs": [],
   "source": [
    "del farm_dict2['data']['items']"
   ]
  },
  {
   "cell_type": "code",
   "execution_count": 42,
   "id": "f72a6b94-5ba5-45be-86f7-b84016cf07ec",
   "metadata": {},
   "outputs": [
    {
     "data": {
      "text/plain": [
       "{'data': {'address': '0x0ac58fd25f334975b1b61732cf79564b6200a933',\n",
       "  'updated_at': '2022-04-27T09:04:44.006186399Z',\n",
       "  'next_update_at': '2022-04-27T09:09:44.006186590Z',\n",
       "  'quote_currency': 'USD',\n",
       "  'chain_id': 56,\n",
       "  'pagination': {'has_more': False,\n",
       "   'page_number': 0,\n",
       "   'page_size': 50000,\n",
       "   'total_count': 7057}},\n",
       " 'error': False,\n",
       " 'error_message': None,\n",
       " 'error_code': None}"
      ]
     },
     "execution_count": 42,
     "metadata": {},
     "output_type": "execute_result"
    }
   ],
   "source": [
    "farm_dict2"
   ]
  },
  {
   "cell_type": "code",
   "execution_count": 43,
   "id": "0022e2e2-e243-4770-8e80-b58c340dab8f",
   "metadata": {},
   "outputs": [
    {
     "data": {
      "text/plain": [
       "{'block_signed_at': '2022-03-03T04:06:40Z',\n",
       " 'block_height': 15726645,\n",
       " 'tx_hash': '0x42e4fc340d00e78d32f9aba693282181ac21e696f06436e6a015eb1f850163d5',\n",
       " 'tx_offset': 58,\n",
       " 'successful': True,\n",
       " 'from_address': '0x7d223bf866d75c19d488dceef6b3a107816f0f19',\n",
       " 'from_address_label': None,\n",
       " 'to_address': '0x0ac58fd25f334975b1b61732cf79564b6200a933',\n",
       " 'to_address_label': None,\n",
       " 'value': '0',\n",
       " 'value_quote': 0.0,\n",
       " 'gas_offered': 278538,\n",
       " 'gas_spent': 141606,\n",
       " 'gas_price': 5000000000,\n",
       " 'fees_paid': None,\n",
       " 'gas_quote': 0.2952188430935669,\n",
       " 'gas_quote_rate': 416.9580993652344,\n",
       " 'transfers': [{'block_signed_at': '2022-03-03T04:06:40Z',\n",
       "   'tx_hash': '0x42e4fc340d00e78d32f9aba693282181ac21e696f06436e6a015eb1f850163d5',\n",
       "   'from_address': '0x0ac58fd25f334975b1b61732cf79564b6200a933',\n",
       "   'from_address_label': None,\n",
       "   'to_address': '0x7d223bf866d75c19d488dceef6b3a107816f0f19',\n",
       "   'to_address_label': None,\n",
       "   'contract_decimals': 18,\n",
       "   'contract_name': 'Planet LPs',\n",
       "   'contract_ticker_symbol': 'Net-LP',\n",
       "   'contract_address': '0x74d51fc48013546d716a7884cc69d0bb75807f8a',\n",
       "   'logo_url': '',\n",
       "   'transfer_type': 'OUT',\n",
       "   'delta': '417763807511000000',\n",
       "   'balance': None,\n",
       "   'quote_rate': None,\n",
       "   'delta_quote': None,\n",
       "   'balance_quote': None,\n",
       "   'method_calls': None},\n",
       "  {'block_signed_at': '2022-03-03T04:06:40Z',\n",
       "   'tx_hash': '0x42e4fc340d00e78d32f9aba693282181ac21e696f06436e6a015eb1f850163d5',\n",
       "   'from_address': '0xcc0250698919448e2e90f0f0a780addc97a332f5',\n",
       "   'from_address_label': None,\n",
       "   'to_address': '0x0ac58fd25f334975b1b61732cf79564b6200a933',\n",
       "   'to_address_label': None,\n",
       "   'contract_decimals': 18,\n",
       "   'contract_name': 'Planet LPs',\n",
       "   'contract_ticker_symbol': 'Net-LP',\n",
       "   'contract_address': '0x74d51fc48013546d716a7884cc69d0bb75807f8a',\n",
       "   'logo_url': '',\n",
       "   'transfer_type': 'IN',\n",
       "   'delta': '417763807511000000',\n",
       "   'balance': None,\n",
       "   'quote_rate': None,\n",
       "   'delta_quote': None,\n",
       "   'balance_quote': None,\n",
       "   'method_calls': None}]}"
      ]
     },
     "execution_count": 43,
     "metadata": {},
     "output_type": "execute_result"
    }
   ],
   "source": [
    "farm_dict['data']['items'][0]"
   ]
  },
  {
   "cell_type": "code",
   "execution_count": 64,
   "id": "919ad279-ab68-44b1-b6bf-d878c5b31458",
   "metadata": {},
   "outputs": [],
   "source": [
    "txs = []\n",
    "for item in farm_dict['data']['items']:\n",
    "    assert len(item['transfers']) == 2\n",
    "    transfers = item['transfers']\n",
    "    txs.append((transfers[0]['tx_hash'], transfers[0]['from_address'], transfers[0]['to_address'], int(transfers[0]['delta'])))\n",
    "    txs.append((transfers[1]['tx_hash'], transfers[1]['from_address'], transfers[1]['to_address'], int(transfers[1]['delta'])))"
   ]
  },
  {
   "cell_type": "code",
   "execution_count": 65,
   "id": "671d13d7-b2c3-48bd-bfed-d3547bbb4949",
   "metadata": {},
   "outputs": [],
   "source": [
    "df_farm = pd.DataFrame(txs, columns=['tx_hash','from_addr','to_addr','delta'])\n",
    "df_farm['delta'] = df_farm['delta']/1e18"
   ]
  },
  {
   "cell_type": "code",
   "execution_count": 69,
   "id": "875ef83b-d5a0-46e6-ad18-77e675de3096",
   "metadata": {},
   "outputs": [
    {
     "data": {
      "text/html": [
       "<div>\n",
       "<style scoped>\n",
       "    .dataframe tbody tr th:only-of-type {\n",
       "        vertical-align: middle;\n",
       "    }\n",
       "\n",
       "    .dataframe tbody tr th {\n",
       "        vertical-align: top;\n",
       "    }\n",
       "\n",
       "    .dataframe thead th {\n",
       "        text-align: right;\n",
       "    }\n",
       "</style>\n",
       "<table border=\"1\" class=\"dataframe\">\n",
       "  <thead>\n",
       "    <tr style=\"text-align: right;\">\n",
       "      <th></th>\n",
       "      <th>tx_hash</th>\n",
       "      <th>from_addr</th>\n",
       "      <th>to_addr</th>\n",
       "      <th>delta</th>\n",
       "    </tr>\n",
       "  </thead>\n",
       "  <tbody>\n",
       "    <tr>\n",
       "      <th>9</th>\n",
       "      <td>0xa2c751698f569e16956408a2257f9e38d08c6f96094a...</td>\n",
       "      <td>0xf8375f52a94cfde7279b22da6654f3cd3e39bcee</td>\n",
       "      <td>0x0ac58fd25f334975b1b61732cf79564b6200a933</td>\n",
       "      <td>0.098855</td>\n",
       "    </tr>\n",
       "    <tr>\n",
       "      <th>7547</th>\n",
       "      <td>0xbacca90878d847e880820a3a80e8857e66debe3ca1cc...</td>\n",
       "      <td>0xf8375f52a94cfde7279b22da6654f3cd3e39bcee</td>\n",
       "      <td>0x0ac58fd25f334975b1b61732cf79564b6200a933</td>\n",
       "      <td>6927.936475</td>\n",
       "    </tr>\n",
       "  </tbody>\n",
       "</table>\n",
       "</div>"
      ],
      "text/plain": [
       "                                                tx_hash  \\\n",
       "9     0xa2c751698f569e16956408a2257f9e38d08c6f96094a...   \n",
       "7547  0xbacca90878d847e880820a3a80e8857e66debe3ca1cc...   \n",
       "\n",
       "                                       from_addr  \\\n",
       "9     0xf8375f52a94cfde7279b22da6654f3cd3e39bcee   \n",
       "7547  0xf8375f52a94cfde7279b22da6654f3cd3e39bcee   \n",
       "\n",
       "                                         to_addr        delta  \n",
       "9     0x0ac58fd25f334975b1b61732cf79564b6200a933     0.098855  \n",
       "7547  0x0ac58fd25f334975b1b61732cf79564b6200a933  6927.936475  "
      ]
     },
     "execution_count": 69,
     "metadata": {},
     "output_type": "execute_result"
    }
   ],
   "source": [
    "df_farm.query(f\"from_addr=='{MY_WALLET}'\")"
   ]
  },
  {
   "cell_type": "code",
   "execution_count": 70,
   "id": "faf696c9-28c4-4a2d-a6ad-65d42eb6d118",
   "metadata": {},
   "outputs": [
    {
     "data": {
      "text/html": [
       "<div>\n",
       "<style scoped>\n",
       "    .dataframe tbody tr th:only-of-type {\n",
       "        vertical-align: middle;\n",
       "    }\n",
       "\n",
       "    .dataframe tbody tr th {\n",
       "        vertical-align: top;\n",
       "    }\n",
       "\n",
       "    .dataframe thead th {\n",
       "        text-align: right;\n",
       "    }\n",
       "</style>\n",
       "<table border=\"1\" class=\"dataframe\">\n",
       "  <thead>\n",
       "    <tr style=\"text-align: right;\">\n",
       "      <th></th>\n",
       "      <th>tx_hash</th>\n",
       "      <th>from_addr</th>\n",
       "      <th>to_addr</th>\n",
       "      <th>delta</th>\n",
       "    </tr>\n",
       "  </thead>\n",
       "  <tbody>\n",
       "    <tr>\n",
       "      <th>6</th>\n",
       "      <td>0x93cf2e7fa481bb9b000d0fffa8bdbab6bfc4f9962562...</td>\n",
       "      <td>0x0ac58fd25f334975b1b61732cf79564b6200a933</td>\n",
       "      <td>0xf8375f52a94cfde7279b22da6654f3cd3e39bcee</td>\n",
       "      <td>0.00001</td>\n",
       "    </tr>\n",
       "    <tr>\n",
       "      <th>10</th>\n",
       "      <td>0x8b6038d1308f6be2b11e004a2f053c00e928e350e6d8...</td>\n",
       "      <td>0x0ac58fd25f334975b1b61732cf79564b6200a933</td>\n",
       "      <td>0xf8375f52a94cfde7279b22da6654f3cd3e39bcee</td>\n",
       "      <td>0.0</td>\n",
       "    </tr>\n",
       "    <tr>\n",
       "      <th>5662</th>\n",
       "      <td>0x34d0ff5352699e4f48e5b3a265ff0d1831dbc89f5381...</td>\n",
       "      <td>0x0ac58fd25f334975b1b61732cf79564b6200a933</td>\n",
       "      <td>0xf8375f52a94cfde7279b22da6654f3cd3e39bcee</td>\n",
       "      <td>2997.0</td>\n",
       "    </tr>\n",
       "  </tbody>\n",
       "</table>\n",
       "</div>"
      ],
      "text/plain": [
       "                                                tx_hash  \\\n",
       "6     0x93cf2e7fa481bb9b000d0fffa8bdbab6bfc4f9962562...   \n",
       "10    0x8b6038d1308f6be2b11e004a2f053c00e928e350e6d8...   \n",
       "5662  0x34d0ff5352699e4f48e5b3a265ff0d1831dbc89f5381...   \n",
       "\n",
       "                                       from_addr  \\\n",
       "6     0x0ac58fd25f334975b1b61732cf79564b6200a933   \n",
       "10    0x0ac58fd25f334975b1b61732cf79564b6200a933   \n",
       "5662  0x0ac58fd25f334975b1b61732cf79564b6200a933   \n",
       "\n",
       "                                         to_addr    delta  \n",
       "6     0xf8375f52a94cfde7279b22da6654f3cd3e39bcee  0.00001  \n",
       "10    0xf8375f52a94cfde7279b22da6654f3cd3e39bcee      0.0  \n",
       "5662  0xf8375f52a94cfde7279b22da6654f3cd3e39bcee   2997.0  "
      ]
     },
     "execution_count": 70,
     "metadata": {},
     "output_type": "execute_result"
    }
   ],
   "source": [
    "df_farm.query(f\"to_addr=='{MY_WALLET}'\")"
   ]
  },
  {
   "cell_type": "code",
   "execution_count": 151,
   "id": "6db56f5f-7e9e-4da4-90b3-412589017d3b",
   "metadata": {},
   "outputs": [
    {
     "data": {
      "text/plain": [
       "1115"
      ]
     },
     "execution_count": 151,
     "metadata": {},
     "output_type": "execute_result"
    }
   ],
   "source": [
    "# total # of addresses involved\n",
    "addresses = set(df_farm['from_addr']).union(set(df_farm['to_addr'])); len(addresses)"
   ]
  },
  {
   "cell_type": "code",
   "execution_count": 84,
   "id": "4431b6a5-cb07-42c9-a223-9d9c070c44af",
   "metadata": {},
   "outputs": [],
   "source": [
    "from_agg = df_farm.groupby('from_addr')['delta'].sum().reset_index().set_index('from_addr')"
   ]
  },
  {
   "cell_type": "code",
   "execution_count": 85,
   "id": "f901f54d-e1ea-4e63-8c33-ad25a5dc542a",
   "metadata": {},
   "outputs": [],
   "source": [
    "to_agg = df_farm.groupby('to_addr')['delta'].sum().reset_index().set_index('to_addr')"
   ]
  },
  {
   "cell_type": "code",
   "execution_count": 132,
   "id": "c96d8c9d-9ce9-4798-af90-28b0f485a20f",
   "metadata": {},
   "outputs": [],
   "source": [
    "joined = from_agg.merge(to_agg, how='outer', left_index=True, right_index=True)"
   ]
  },
  {
   "cell_type": "code",
   "execution_count": 133,
   "id": "9c987adf-38de-4cee-b458-fee5b5c2635d",
   "metadata": {},
   "outputs": [],
   "source": [
    "joined.columns = ['from_amt','to_amt']"
   ]
  },
  {
   "cell_type": "code",
   "execution_count": 134,
   "id": "fa54e56e-b6bb-4bf3-abfc-ed430a3274be",
   "metadata": {},
   "outputs": [],
   "source": [
    "joined = joined.fillna(0)"
   ]
  },
  {
   "cell_type": "code",
   "execution_count": 135,
   "id": "db09a798-9c7f-4e5e-a10c-ac5f9e67b634",
   "metadata": {},
   "outputs": [],
   "source": [
    "joined['to_minus_from'] = joined['to_amt'] - joined['from_amt']"
   ]
  },
  {
   "cell_type": "code",
   "execution_count": 160,
   "id": "b2dd2c24-7d8d-498a-8a07-bf5937234e59",
   "metadata": {},
   "outputs": [],
   "source": [
    "joined['to_div_from'] = joined['to_amt'] / joined['from_amt']"
   ]
  },
  {
   "cell_type": "code",
   "execution_count": 161,
   "id": "96feca77-c4cf-4dcc-a870-638ec945eac9",
   "metadata": {},
   "outputs": [
    {
     "data": {
      "text/html": [
       "<div>\n",
       "<style scoped>\n",
       "    .dataframe tbody tr th:only-of-type {\n",
       "        vertical-align: middle;\n",
       "    }\n",
       "\n",
       "    .dataframe tbody tr th {\n",
       "        vertical-align: top;\n",
       "    }\n",
       "\n",
       "    .dataframe thead th {\n",
       "        text-align: right;\n",
       "    }\n",
       "</style>\n",
       "<table border=\"1\" class=\"dataframe\">\n",
       "  <thead>\n",
       "    <tr style=\"text-align: right;\">\n",
       "      <th></th>\n",
       "      <th>from_amt</th>\n",
       "      <th>to_amt</th>\n",
       "      <th>to_minus_from</th>\n",
       "      <th>to_div_from</th>\n",
       "    </tr>\n",
       "  </thead>\n",
       "  <tbody>\n",
       "    <tr>\n",
       "      <th>0x3e48c47a4a366a6a02f5370dba6e8bac49a725db</th>\n",
       "      <td>9.560552e+03</td>\n",
       "      <td>2.083881e+03</td>\n",
       "      <td>-7476.670764</td>\n",
       "      <td>0.217967</td>\n",
       "    </tr>\n",
       "    <tr>\n",
       "      <th>0xae720014c9d3521af91645be154bd6e98b6bc519</th>\n",
       "      <td>5.000251e+03</td>\n",
       "      <td>0.000000e+00</td>\n",
       "      <td>-5000.250683</td>\n",
       "      <td>0.000000</td>\n",
       "    </tr>\n",
       "    <tr>\n",
       "      <th>0xf8375f52a94cfde7279b22da6654f3cd3e39bcee</th>\n",
       "      <td>6.928035e+03</td>\n",
       "      <td>2.997000e+03</td>\n",
       "      <td>-3931.035320</td>\n",
       "      <td>0.432590</td>\n",
       "    </tr>\n",
       "    <tr>\n",
       "      <th>0x8f4b571aaafe020d7c7abb4f52d626cfa6a001bd</th>\n",
       "      <td>2.822483e+03</td>\n",
       "      <td>0.000000e+00</td>\n",
       "      <td>-2822.482679</td>\n",
       "      <td>0.000000</td>\n",
       "    </tr>\n",
       "    <tr>\n",
       "      <th>0xaae8dc4461c6abde35982e50679df09e42e3820c</th>\n",
       "      <td>1.496020e+03</td>\n",
       "      <td>0.000000e+00</td>\n",
       "      <td>-1496.019703</td>\n",
       "      <td>0.000000</td>\n",
       "    </tr>\n",
       "    <tr>\n",
       "      <th>0x38d79151e014acc2c54c1118590657d83d4e3823</th>\n",
       "      <td>1.987262e+03</td>\n",
       "      <td>9.942688e+02</td>\n",
       "      <td>-992.993443</td>\n",
       "      <td>0.500321</td>\n",
       "    </tr>\n",
       "    <tr>\n",
       "      <th>0x3adf0b7ad98751f9f4e0acba8637fa3f4852ea9e</th>\n",
       "      <td>3.069481e+06</td>\n",
       "      <td>3.068652e+06</td>\n",
       "      <td>-828.614080</td>\n",
       "      <td>0.999730</td>\n",
       "    </tr>\n",
       "    <tr>\n",
       "      <th>0x989b3c9f5bc4189dfaee8efac99f9638d39fc45d</th>\n",
       "      <td>7.160826e+05</td>\n",
       "      <td>7.154552e+05</td>\n",
       "      <td>-627.401472</td>\n",
       "      <td>0.999124</td>\n",
       "    </tr>\n",
       "    <tr>\n",
       "      <th>0x768f2a7ccdfde9ebdfd5cea8b635dd590cb3a3f1</th>\n",
       "      <td>7.558280e+05</td>\n",
       "      <td>7.552446e+05</td>\n",
       "      <td>-583.391547</td>\n",
       "      <td>0.999228</td>\n",
       "    </tr>\n",
       "    <tr>\n",
       "      <th>0xe8ece25ecf41a3aa6b61a3beb028e738522e3e59</th>\n",
       "      <td>4.962258e+02</td>\n",
       "      <td>0.000000e+00</td>\n",
       "      <td>-496.225823</td>\n",
       "      <td>0.000000</td>\n",
       "    </tr>\n",
       "  </tbody>\n",
       "</table>\n",
       "</div>"
      ],
      "text/plain": [
       "                                                from_amt        to_amt  \\\n",
       "0x3e48c47a4a366a6a02f5370dba6e8bac49a725db  9.560552e+03  2.083881e+03   \n",
       "0xae720014c9d3521af91645be154bd6e98b6bc519  5.000251e+03  0.000000e+00   \n",
       "0xf8375f52a94cfde7279b22da6654f3cd3e39bcee  6.928035e+03  2.997000e+03   \n",
       "0x8f4b571aaafe020d7c7abb4f52d626cfa6a001bd  2.822483e+03  0.000000e+00   \n",
       "0xaae8dc4461c6abde35982e50679df09e42e3820c  1.496020e+03  0.000000e+00   \n",
       "0x38d79151e014acc2c54c1118590657d83d4e3823  1.987262e+03  9.942688e+02   \n",
       "0x3adf0b7ad98751f9f4e0acba8637fa3f4852ea9e  3.069481e+06  3.068652e+06   \n",
       "0x989b3c9f5bc4189dfaee8efac99f9638d39fc45d  7.160826e+05  7.154552e+05   \n",
       "0x768f2a7ccdfde9ebdfd5cea8b635dd590cb3a3f1  7.558280e+05  7.552446e+05   \n",
       "0xe8ece25ecf41a3aa6b61a3beb028e738522e3e59  4.962258e+02  0.000000e+00   \n",
       "\n",
       "                                            to_minus_from  to_div_from  \n",
       "0x3e48c47a4a366a6a02f5370dba6e8bac49a725db   -7476.670764     0.217967  \n",
       "0xae720014c9d3521af91645be154bd6e98b6bc519   -5000.250683     0.000000  \n",
       "0xf8375f52a94cfde7279b22da6654f3cd3e39bcee   -3931.035320     0.432590  \n",
       "0x8f4b571aaafe020d7c7abb4f52d626cfa6a001bd   -2822.482679     0.000000  \n",
       "0xaae8dc4461c6abde35982e50679df09e42e3820c   -1496.019703     0.000000  \n",
       "0x38d79151e014acc2c54c1118590657d83d4e3823    -992.993443     0.500321  \n",
       "0x3adf0b7ad98751f9f4e0acba8637fa3f4852ea9e    -828.614080     0.999730  \n",
       "0x989b3c9f5bc4189dfaee8efac99f9638d39fc45d    -627.401472     0.999124  \n",
       "0x768f2a7ccdfde9ebdfd5cea8b635dd590cb3a3f1    -583.391547     0.999228  \n",
       "0xe8ece25ecf41a3aa6b61a3beb028e738522e3e59    -496.225823     0.000000  "
      ]
     },
     "execution_count": 161,
     "metadata": {},
     "output_type": "execute_result"
    }
   ],
   "source": [
    "joined.sort_values('to_minus_from',ascending=True).head(10) #wallets which withdrew LESS than they deposirted"
   ]
  },
  {
   "cell_type": "code",
   "execution_count": 164,
   "id": "c1dcea62-4354-4d25-a7d7-2aa0d083da89",
   "metadata": {},
   "outputs": [
    {
     "data": {
      "text/html": [
       "<div>\n",
       "<style scoped>\n",
       "    .dataframe tbody tr th:only-of-type {\n",
       "        vertical-align: middle;\n",
       "    }\n",
       "\n",
       "    .dataframe tbody tr th {\n",
       "        vertical-align: top;\n",
       "    }\n",
       "\n",
       "    .dataframe thead th {\n",
       "        text-align: right;\n",
       "    }\n",
       "</style>\n",
       "<table border=\"1\" class=\"dataframe\">\n",
       "  <thead>\n",
       "    <tr style=\"text-align: right;\">\n",
       "      <th></th>\n",
       "      <th>from_amt</th>\n",
       "      <th>to_amt</th>\n",
       "      <th>to_minus_from</th>\n",
       "      <th>to_div_from</th>\n",
       "    </tr>\n",
       "  </thead>\n",
       "  <tbody>\n",
       "    <tr>\n",
       "      <th>0x846b29a047bbae492f37cc61fe5968bc38531bd5</th>\n",
       "      <td>465.424587</td>\n",
       "      <td>469.323218</td>\n",
       "      <td>3.898631</td>\n",
       "      <td>1.008377</td>\n",
       "    </tr>\n",
       "    <tr>\n",
       "      <th>0x8b40b722aa17808069a22381c74fd61d0e026b48</th>\n",
       "      <td>149.162706</td>\n",
       "      <td>150.314665</td>\n",
       "      <td>1.151959</td>\n",
       "      <td>1.007723</td>\n",
       "    </tr>\n",
       "    <tr>\n",
       "      <th>0x54c77142d90ab0b20a6325a05c3949f17d7d0ece</th>\n",
       "      <td>12650.415539</td>\n",
       "      <td>12744.418234</td>\n",
       "      <td>94.002695</td>\n",
       "      <td>1.007431</td>\n",
       "    </tr>\n",
       "    <tr>\n",
       "      <th>0xa5cc086cd2af70e507b0708d86d9c9e6cd14e782</th>\n",
       "      <td>49.756428</td>\n",
       "      <td>50.118518</td>\n",
       "      <td>0.362090</td>\n",
       "      <td>1.007277</td>\n",
       "    </tr>\n",
       "    <tr>\n",
       "      <th>0x5e6d36d210cf6ae216faa45c18a6815e20f31220</th>\n",
       "      <td>7.945574</td>\n",
       "      <td>7.999809</td>\n",
       "      <td>0.054235</td>\n",
       "      <td>1.006826</td>\n",
       "    </tr>\n",
       "    <tr>\n",
       "      <th>0x2c0bc7f1858185bbccf1ceb6bfaca1e3a8bcbd51</th>\n",
       "      <td>800.082150</td>\n",
       "      <td>805.449726</td>\n",
       "      <td>5.367575</td>\n",
       "      <td>1.006709</td>\n",
       "    </tr>\n",
       "    <tr>\n",
       "      <th>0x66d091b635bc6226bfd389bdb932c944a6644cfc</th>\n",
       "      <td>82.297265</td>\n",
       "      <td>82.845658</td>\n",
       "      <td>0.548393</td>\n",
       "      <td>1.006664</td>\n",
       "    </tr>\n",
       "    <tr>\n",
       "      <th>0xaaff9dbe4aba011ac56b48119dc734d7c6a46ca4</th>\n",
       "      <td>7.402684</td>\n",
       "      <td>7.451423</td>\n",
       "      <td>0.048739</td>\n",
       "      <td>1.006584</td>\n",
       "    </tr>\n",
       "    <tr>\n",
       "      <th>0x598f2ff6be73ffcf8f18e244f5fbe1bbfb0a4349</th>\n",
       "      <td>29559.033152</td>\n",
       "      <td>29749.087829</td>\n",
       "      <td>190.054677</td>\n",
       "      <td>1.006430</td>\n",
       "    </tr>\n",
       "    <tr>\n",
       "      <th>0x88d2b1dacd67e544072c1870b93cc28ca71a638e</th>\n",
       "      <td>399.174261</td>\n",
       "      <td>401.703232</td>\n",
       "      <td>2.528971</td>\n",
       "      <td>1.006336</td>\n",
       "    </tr>\n",
       "  </tbody>\n",
       "</table>\n",
       "</div>"
      ],
      "text/plain": [
       "                                                from_amt        to_amt  \\\n",
       "0x846b29a047bbae492f37cc61fe5968bc38531bd5    465.424587    469.323218   \n",
       "0x8b40b722aa17808069a22381c74fd61d0e026b48    149.162706    150.314665   \n",
       "0x54c77142d90ab0b20a6325a05c3949f17d7d0ece  12650.415539  12744.418234   \n",
       "0xa5cc086cd2af70e507b0708d86d9c9e6cd14e782     49.756428     50.118518   \n",
       "0x5e6d36d210cf6ae216faa45c18a6815e20f31220      7.945574      7.999809   \n",
       "0x2c0bc7f1858185bbccf1ceb6bfaca1e3a8bcbd51    800.082150    805.449726   \n",
       "0x66d091b635bc6226bfd389bdb932c944a6644cfc     82.297265     82.845658   \n",
       "0xaaff9dbe4aba011ac56b48119dc734d7c6a46ca4      7.402684      7.451423   \n",
       "0x598f2ff6be73ffcf8f18e244f5fbe1bbfb0a4349  29559.033152  29749.087829   \n",
       "0x88d2b1dacd67e544072c1870b93cc28ca71a638e    399.174261    401.703232   \n",
       "\n",
       "                                            to_minus_from  to_div_from  \n",
       "0x846b29a047bbae492f37cc61fe5968bc38531bd5       3.898631     1.008377  \n",
       "0x8b40b722aa17808069a22381c74fd61d0e026b48       1.151959     1.007723  \n",
       "0x54c77142d90ab0b20a6325a05c3949f17d7d0ece      94.002695     1.007431  \n",
       "0xa5cc086cd2af70e507b0708d86d9c9e6cd14e782       0.362090     1.007277  \n",
       "0x5e6d36d210cf6ae216faa45c18a6815e20f31220       0.054235     1.006826  \n",
       "0x2c0bc7f1858185bbccf1ceb6bfaca1e3a8bcbd51       5.367575     1.006709  \n",
       "0x66d091b635bc6226bfd389bdb932c944a6644cfc       0.548393     1.006664  \n",
       "0xaaff9dbe4aba011ac56b48119dc734d7c6a46ca4       0.048739     1.006584  \n",
       "0x598f2ff6be73ffcf8f18e244f5fbe1bbfb0a4349     190.054677     1.006430  \n",
       "0x88d2b1dacd67e544072c1870b93cc28ca71a638e       2.528971     1.006336  "
      ]
     },
     "execution_count": 164,
     "metadata": {},
     "output_type": "execute_result"
    }
   ],
   "source": [
    "joined.sort_values('to_div_from',ascending=False).head(10) #wallets which withdrew LESS than they deposited"
   ]
  },
  {
   "cell_type": "code",
   "execution_count": 142,
   "id": "c4599eb1-5b23-4a9f-a21a-01661e7f9477",
   "metadata": {},
   "outputs": [
    {
     "data": {
      "text/html": [
       "<div>\n",
       "<style scoped>\n",
       "    .dataframe tbody tr th:only-of-type {\n",
       "        vertical-align: middle;\n",
       "    }\n",
       "\n",
       "    .dataframe tbody tr th {\n",
       "        vertical-align: top;\n",
       "    }\n",
       "\n",
       "    .dataframe thead th {\n",
       "        text-align: right;\n",
       "    }\n",
       "</style>\n",
       "<table border=\"1\" class=\"dataframe\">\n",
       "  <thead>\n",
       "    <tr style=\"text-align: right;\">\n",
       "      <th></th>\n",
       "      <th>from_amt</th>\n",
       "      <th>to_amt</th>\n",
       "      <th>to_minus_from</th>\n",
       "    </tr>\n",
       "  </thead>\n",
       "  <tbody>\n",
       "    <tr>\n",
       "      <th>0xcc0250698919448e2e90f0f0a780addc97a332f5</th>\n",
       "      <td>2.437646e+07</td>\n",
       "      <td>2.440085e+07</td>\n",
       "      <td>24384.183211</td>\n",
       "    </tr>\n",
       "    <tr>\n",
       "      <th>0x81580d30e5acac9b6c19b629c4cd46a273c2fff9</th>\n",
       "      <td>5.299777e+05</td>\n",
       "      <td>5.306037e+05</td>\n",
       "      <td>625.977328</td>\n",
       "    </tr>\n",
       "    <tr>\n",
       "      <th>0x2d86c5c13d1db6ab40f7b824f5ef966ac6987aa7</th>\n",
       "      <td>2.002035e+05</td>\n",
       "      <td>2.008226e+05</td>\n",
       "      <td>619.107209</td>\n",
       "    </tr>\n",
       "    <tr>\n",
       "      <th>0xb0bb39ea49d115f6d054a2dfe68b6691c3f2b805</th>\n",
       "      <td>2.478019e+05</td>\n",
       "      <td>2.483222e+05</td>\n",
       "      <td>520.282619</td>\n",
       "    </tr>\n",
       "    <tr>\n",
       "      <th>0x3b17fdd632ec7e099805b7cf049614bf9213504a</th>\n",
       "      <td>4.852650e+04</td>\n",
       "      <td>4.877508e+04</td>\n",
       "      <td>248.584070</td>\n",
       "    </tr>\n",
       "    <tr>\n",
       "      <th>0x7c00406717856cdcaf222eab5803fe31507898cd</th>\n",
       "      <td>1.377107e+05</td>\n",
       "      <td>1.379534e+05</td>\n",
       "      <td>242.712335</td>\n",
       "    </tr>\n",
       "    <tr>\n",
       "      <th>0x911a6d66a2a60ceafb894cedf60cd00042f6300d</th>\n",
       "      <td>7.266772e+04</td>\n",
       "      <td>7.290195e+04</td>\n",
       "      <td>234.235623</td>\n",
       "    </tr>\n",
       "    <tr>\n",
       "      <th>0x598341d72d880983cfac51571417206cee9a5225</th>\n",
       "      <td>9.926756e+04</td>\n",
       "      <td>9.948716e+04</td>\n",
       "      <td>219.599952</td>\n",
       "    </tr>\n",
       "    <tr>\n",
       "      <th>0xd84804acec78c9898ee21ca74f2c37f4cda666fc</th>\n",
       "      <td>5.555538e+04</td>\n",
       "      <td>5.575676e+04</td>\n",
       "      <td>201.375329</td>\n",
       "    </tr>\n",
       "    <tr>\n",
       "      <th>0x598f2ff6be73ffcf8f18e244f5fbe1bbfb0a4349</th>\n",
       "      <td>2.955903e+04</td>\n",
       "      <td>2.974909e+04</td>\n",
       "      <td>190.054677</td>\n",
       "    </tr>\n",
       "  </tbody>\n",
       "</table>\n",
       "</div>"
      ],
      "text/plain": [
       "                                                from_amt        to_amt  \\\n",
       "0xcc0250698919448e2e90f0f0a780addc97a332f5  2.437646e+07  2.440085e+07   \n",
       "0x81580d30e5acac9b6c19b629c4cd46a273c2fff9  5.299777e+05  5.306037e+05   \n",
       "0x2d86c5c13d1db6ab40f7b824f5ef966ac6987aa7  2.002035e+05  2.008226e+05   \n",
       "0xb0bb39ea49d115f6d054a2dfe68b6691c3f2b805  2.478019e+05  2.483222e+05   \n",
       "0x3b17fdd632ec7e099805b7cf049614bf9213504a  4.852650e+04  4.877508e+04   \n",
       "0x7c00406717856cdcaf222eab5803fe31507898cd  1.377107e+05  1.379534e+05   \n",
       "0x911a6d66a2a60ceafb894cedf60cd00042f6300d  7.266772e+04  7.290195e+04   \n",
       "0x598341d72d880983cfac51571417206cee9a5225  9.926756e+04  9.948716e+04   \n",
       "0xd84804acec78c9898ee21ca74f2c37f4cda666fc  5.555538e+04  5.575676e+04   \n",
       "0x598f2ff6be73ffcf8f18e244f5fbe1bbfb0a4349  2.955903e+04  2.974909e+04   \n",
       "\n",
       "                                            to_minus_from  \n",
       "0xcc0250698919448e2e90f0f0a780addc97a332f5   24384.183211  \n",
       "0x81580d30e5acac9b6c19b629c4cd46a273c2fff9     625.977328  \n",
       "0x2d86c5c13d1db6ab40f7b824f5ef966ac6987aa7     619.107209  \n",
       "0xb0bb39ea49d115f6d054a2dfe68b6691c3f2b805     520.282619  \n",
       "0x3b17fdd632ec7e099805b7cf049614bf9213504a     248.584070  \n",
       "0x7c00406717856cdcaf222eab5803fe31507898cd     242.712335  \n",
       "0x911a6d66a2a60ceafb894cedf60cd00042f6300d     234.235623  \n",
       "0x598341d72d880983cfac51571417206cee9a5225     219.599952  \n",
       "0xd84804acec78c9898ee21ca74f2c37f4cda666fc     201.375329  \n",
       "0x598f2ff6be73ffcf8f18e244f5fbe1bbfb0a4349     190.054677  "
      ]
     },
     "execution_count": 142,
     "metadata": {},
     "output_type": "execute_result"
    }
   ],
   "source": [
    "joined.sort_values('to_minus_from',ascending=False).head(10) #wallets which withdrew MORE than they deposited \n",
    "## reminder: 0xcc0250698919448e2e90f0f0a780addc97a332f5 is special because that's the vault contract address."
   ]
  },
  {
   "cell_type": "code",
   "execution_count": null,
   "id": "519b1d09-2c8b-4acb-ba52-15330e57e8bf",
   "metadata": {},
   "outputs": [],
   "source": []
  },
  {
   "cell_type": "code",
   "execution_count": 149,
   "id": "b85445bf-6831-430f-833e-fa1e5c8e7209",
   "metadata": {},
   "outputs": [],
   "source": [
    "# verify that the data from Covalent API matches data from bscscan\n",
    "assert np.isclose( joined.loc['0xcc0250698919448e2e90f0f0a780addc97a332f5','to_amt'], df_agg['vault'])"
   ]
  },
  {
   "cell_type": "code",
   "execution_count": 140,
   "id": "66fc1ea2-90b2-4584-b2fc-5e9531c80294",
   "metadata": {},
   "outputs": [
    {
     "data": {
      "text/plain": [
       "from_amt         9.755462e+07\n",
       "to_amt           9.755462e+07\n",
       "to_minus_from   -2.152046e-08\n",
       "dtype: float64"
      ]
     },
     "execution_count": 140,
     "metadata": {},
     "output_type": "execute_result"
    }
   ],
   "source": [
    "joined.sum()"
   ]
  },
  {
   "cell_type": "code",
   "execution_count": 144,
   "id": "3f4af872-be16-43f2-8fc2-3e00c247ee52",
   "metadata": {},
   "outputs": [
    {
     "data": {
      "text/plain": [
       "0.32107623318385653"
      ]
     },
     "execution_count": 144,
     "metadata": {},
     "output_type": "execute_result"
    }
   ],
   "source": [
    "# proportion of wallets (out of total # of wallets) that withdrew more than they deposited\n",
    "len(joined.query(\"to_minus_from>0\"))/len(joined)"
   ]
  },
  {
   "cell_type": "code",
   "execution_count": 145,
   "id": "346b6dca-2200-4a5a-b643-bd0975458460",
   "metadata": {},
   "outputs": [
    {
     "data": {
      "text/plain": [
       "0.27623318385650225"
      ]
     },
     "execution_count": 145,
     "metadata": {},
     "output_type": "execute_result"
    }
   ],
   "source": [
    "# proportion of wallets (out of total # of wallets) that withdrew at least 0.2 LP tokens more than they deposited\n",
    "len(joined.query(\"to_minus_from>0.2\"))/len(joined)"
   ]
  },
  {
   "cell_type": "code",
   "execution_count": 154,
   "id": "f436df2d-e9d2-4e7f-8e87-a5740090e565",
   "metadata": {},
   "outputs": [
    {
     "data": {
      "text/plain": [
       "48"
      ]
     },
     "execution_count": 154,
     "metadata": {},
     "output_type": "execute_result"
    }
   ],
   "source": [
    "# of wallets that lost more than 50 LP tokens (worth about $100)\n",
    "len(joined.query(\"to_minus_from < -50\"))"
   ]
  },
  {
   "cell_type": "code",
   "execution_count": 159,
   "id": "5f9ec108-8b1c-41eb-b6e6-492d9aa60e02",
   "metadata": {},
   "outputs": [
    {
     "data": {
      "text/plain": [
       "-32681.24366484685"
      ]
     },
     "execution_count": 159,
     "metadata": {},
     "output_type": "execute_result"
    }
   ],
   "source": [
    "# number of LP tokens lost by the people who had losses (withdrew less than they deposited)\n",
    "joined.query(\"to_minus_from < 0\")['to_minus_from'].sum()"
   ]
  },
  {
   "cell_type": "markdown",
   "id": "3338957b-50c9-41d1-bb39-40f88b174903",
   "metadata": {},
   "source": [
    "### clean example of one wallet withdrawing way more than they deposited: https://bscscan.com/token/0x74d51fc48013546d716a7884cc69d0bb75807f8a?a=0x2d86c5c13d1db6ab40f7b824f5ef966ac6987aa7"
   ]
  },
  {
   "cell_type": "code",
   "execution_count": null,
   "id": "a0428b72-6bd6-4c03-9937-e8e08f52f804",
   "metadata": {},
   "outputs": [],
   "source": []
  }
 ],
 "metadata": {
  "kernelspec": {
   "display_name": "Python 3 (ipykernel)",
   "language": "python",
   "name": "python3"
  },
  "language_info": {
   "codemirror_mode": {
    "name": "ipython",
    "version": 3
   },
   "file_extension": ".py",
   "mimetype": "text/x-python",
   "name": "python",
   "nbconvert_exporter": "python",
   "pygments_lexer": "ipython3",
   "version": "3.9.12"
  }
 },
 "nbformat": 4,
 "nbformat_minor": 5
}
