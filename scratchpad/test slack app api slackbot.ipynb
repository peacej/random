{
 "cells": [
  {
   "cell_type": "code",
   "execution_count": 2,
   "metadata": {},
   "outputs": [],
   "source": [
    "#slack_token = os.environ[\"SLACK_API_TOKEN\"]\n",
    "with open (\"/Users/jchi/cred/slackapp.txt\",'r') as f:\n",
    "    slack_token = f.read()"
   ]
  },
  {
   "cell_type": "code",
   "execution_count": 1,
   "metadata": {},
   "outputs": [],
   "source": [
    "import logging\n",
    "logging.basicConfig(level=logging.DEBUG)\n",
    "\n",
    "import os\n",
    "from slack import WebClient\n",
    "from slack.errors import SlackApiError"
   ]
  },
  {
   "cell_type": "code",
   "execution_count": 7,
   "metadata": {},
   "outputs": [
    {
     "name": "stderr",
     "output_type": "stream",
     "text": [
      "DEBUG:slack.web.base_client:Sending a request - url: https://www.slack.com/api/chat.postMessage, query_params: {}, body_params: {}, files: {}, json_body: {'text': 'Hello yet *again* from `your` app (from Slack Python API)!!! :tada:', 'channel': 'jerry-random-memo'}, headers: {'Content-Type': 'application/json;charset=utf-8', 'Authorization': '(redacted)', 'User-Agent': 'Python/3.6.9 slackclient/2.8.0 Darwin/18.7.0'}\n",
      "DEBUG:slack.web.slack_response:Received the following response - status: 200, headers: {'date': 'Fri, 21 Aug 2020 09:27:41 GMT', 'server': 'Apache', 'x-xss-protection': '0', 'pragma': 'no-cache', 'strict-transport-security': 'max-age=31536000; includeSubDomains; preload', 'x-slack-req-id': 'f7776d4aaa25814deb747cc94d9346bc', 'referrer-policy': 'no-referrer', 'x-content-type-options': 'nosniff', 'access-control-expose-headers': 'x-slack-req-id, retry-after', 'x-slack-backend': 'r', 'x-oauth-scopes': 'chat:write', 'cache-control': 'private, no-cache, no-store, must-revalidate', 'x-accepted-oauth-scopes': 'chat:write', 'expires': 'Mon, 26 Jul 1997 05:00:00 GMT', 'vary': 'Accept-Encoding', 'access-control-allow-headers': 'slack-route, x-slack-version-ts, x-b3-traceid, x-b3-spanid, x-b3-parentspanid, x-b3-sampled, x-b3-flags', 'access-control-allow-origin': '*', 'connection': 'close', 'transfer-encoding': 'chunked', 'content-type': 'application/json; charset=utf-8', 'x-via': 'haproxy-www-cwvz,haproxy-edge-nrt-5mzd'}, body: {'ok': True, 'channel': 'C0160L573PU', 'ts': '1598002061.000600', 'message': {'bot_id': 'B018PAETR2B', 'type': 'message', 'text': 'Hello yet *again* from `your` app (from Slack Python API)!!! :tada:', 'user': 'W01942VLJSE', 'ts': '1598002061.000600', 'team': 'T029BFEQ3', 'bot_profile': {'id': 'B018PAETR2B', 'deleted': False, 'name': 'ElephantAirflow', 'updated': 1597842241, 'app_id': 'A019GBLENQ1', 'icons': {'image_36': 'https://a.slack-edge.com/80588/img/plugins/app/bot_36.png', 'image_48': 'https://a.slack-edge.com/80588/img/plugins/app/bot_48.png', 'image_72': 'https://a.slack-edge.com/80588/img/plugins/app/service_72.png'}, 'team_id': 'T029BFEQ3'}}}\n"
     ]
    }
   ],
   "source": [
    "client = WebClient(token=slack_token)\n",
    "\n",
    "try:\n",
    "  response = client.chat_postMessage(\n",
    "    channel=\"jerry-random-memo\",\n",
    "    text=\"Hello yet *again* from `your` app (from Slack Python API)!!! :tada:\"\n",
    "  )\n",
    "except SlackApiError as e:\n",
    "  # You will get a SlackApiError if \"ok\" is False\n",
    "  assert e.response[\"error\"]  # str like 'invalid_auth', 'channel_not_found'"
   ]
  },
  {
   "cell_type": "code",
   "execution_count": null,
   "metadata": {},
   "outputs": [],
   "source": []
  }
 ],
 "metadata": {
  "kernelspec": {
   "display_name": "Python 3",
   "language": "python",
   "name": "python3"
  },
  "language_info": {
   "codemirror_mode": {
    "name": "ipython",
    "version": 3
   },
   "file_extension": ".py",
   "mimetype": "text/x-python",
   "name": "python",
   "nbconvert_exporter": "python",
   "pygments_lexer": "ipython3",
   "version": "3.6.9"
  }
 },
 "nbformat": 4,
 "nbformat_minor": 4
}
