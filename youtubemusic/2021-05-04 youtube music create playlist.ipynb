{
 "cells": [
  {
   "cell_type": "code",
   "execution_count": 1,
   "metadata": {},
   "outputs": [],
   "source": [
    "import ytmusicapi"
   ]
  },
  {
   "cell_type": "code",
   "execution_count": 2,
   "metadata": {},
   "outputs": [],
   "source": [
    "# from https://gist.github.com/neil-aitken/bd7a36ede2dceca04dd4fbfa5eeba0c4 \n",
    "import json\n",
    "import random\n",
    "from datetime import datetime\n",
    "\n",
    "from ytmusicapi import YTMusic\n",
    "\n",
    "# Create a headers auth file following https://ytmusicapi.readthedocs.io/en/latest/setup.html#authenticated-requests"
   ]
  },
  {
   "cell_type": "code",
   "execution_count": 13,
   "metadata": {},
   "outputs": [
    {
     "name": "stdout",
     "output_type": "stream",
     "text": [
      "accept: */*\n",
      "\n"
     ]
    }
   ],
   "source": [
    "with open(\"\"\"C:\\\\Users\\\\jerry\\\\auth\\\\header_auth.json\"\"\",\"r\") as f:\n",
    "    a = f.readline()\n",
    "    print(a)"
   ]
  },
  {
   "cell_type": "code",
   "execution_count": 3,
   "metadata": {},
   "outputs": [
    {
     "data": {
      "text/plain": [
       "'{\"User-Agent\": \"Mozilla/5.0 (Windows NT 10.0; Win64; x64; rv:72.0) Gecko/20100101 Firefox/72.0\", \"Accept\": \"*/*\", \"Accept-Language\": \"en-US,en;q=0.5\", \"Content-Type\": \"application/json\", \"X-Goog-AuthUser\": \"0\", \"origin\": \"https://music.youtube.com\", \"X-Goog-Visitor-Id\": \"CgtWaTB2WWRDeEFUYyjhv-X8BQ%3D%3D\", \"Cookie\": \"__Secure-3PSID=7gfINGkJplfU4Me8jQb6omjfCqq5QvUBZXwDC2ApfYcVLKIGLK-oyJIW3tHst_KIBsXJjg.; __Secure-3PAPISID=XacIEkiMny8M-jr2/AShYOdykGZrf6An8K; VISITOR_INFO1_LIVE=RNKBABBaOhs; LOGIN_INFO=AFmmF2swRAIgXqKmd2iZRB87bpSEDzVo4u8fQvsaIhQ83Ar-5qZrkvkCIEzTC-oGRpSfEJu_G3eCgx5ECBRqKBvBkItSk0J4TF4L:QUQ3MjNmemFkbFVnbjB2bDkySDBCMnJiXzFhZzZOOGc1N1QtaVNkd0k2SWdoLVdWcm5SbTlaa1lhRnd2RER6RlpyWGlhZE9ncEM5LUY5SldaUjc0cnhncnRaZzdZaXY4UUl5T2k1VUJkT1ZWVy14dm01MHNMOGlVUjhrV2tJMEQ5NDAtUmEydGlidmJsYVVaQjByblotM19BS01LMFVRWVRB; YSC=9F5WnaBqzyk; _gcl_au=1.1.1790342042.1620108781; PREF=f6=80&tz=Asia.Tokyo&volume=100&library_tab_browse_id=FEmusic_liked_playlists; __Secure-3PSIDCC=AJi4QfGV-nI-MFQN4qN40lMr1XYqm_IEj0FqnC992CFr1VsFzEVIxpiipDFkKMVnxi9IZ-oOmg\"}'"
      ]
     },
     "execution_count": 3,
     "metadata": {},
     "output_type": "execute_result"
    }
   ],
   "source": [
    "YTMusic.setup(filepath=\"headers_auth.json\",headers_raw=\"\"\"paste_here\"\"\")"
   ]
  },
  {
   "cell_type": "code",
   "execution_count": 4,
   "metadata": {},
   "outputs": [],
   "source": [
    "ytmusic = YTMusic('headers_auth.json')"
   ]
  },
  {
   "cell_type": "code",
   "execution_count": 18,
   "metadata": {},
   "outputs": [],
   "source": [
    "def get_all_songs_from_ytm(limit):\n",
    "    all_song_ids = []\n",
    "    for uploaded_song in ytmusic.get_library_upload_songs(limit=limit):\n",
    "        all_song_ids.append(uploaded_song['videoId'])\n",
    "\n",
    "    #for ytm_song in ytmusic.get_library_songs(limit=limit):\n",
    "    #    all_song_ids.append(ytm_song['videoId'])\n",
    "\n",
    "    return all_song_ids\n",
    "\n",
    "\n",
    "def get_all_songs_from_file():\n",
    "    with open('songs2.json', 'r') as file:\n",
    "        return json.loads(file.read())\n",
    "\n",
    "\n",
    "def write_all_songs_to_file(all_song_ids):\n",
    "    with open('songs2.json', 'w') as file:\n",
    "        json.dump(all_song_ids, file)\n",
    "\n",
    "\n",
    "def generate_shuffled_playlists(all_song_ids, max_playlist_length=5000):\n",
    "    random.shuffle(all_song_ids)\n",
    "    generated_at = datetime.now().isoformat()[0:16]\n",
    "    i = 0\n",
    "    while i < len(all_song_ids):\n",
    "        ytmusic.create_playlist('jerry slice %s' % (10+int(i / max_playlist_length)),\n",
    "                                'generated playlist with all uploaded songs plus all ytm songs at %s' % generated_at,\n",
    "                                privacy_status='PRIVATE', video_ids=all_song_ids[i:i + max_playlist_length])\n",
    "        i += max_playlist_length\n",
    "\n",
    "\n"
   ]
  },
  {
   "cell_type": "code",
   "execution_count": 15,
   "metadata": {},
   "outputs": [],
   "source": [
    "%%time\n",
    "song_ids = get_all_songs_from_ytm(30000)"
   ]
  },
  {
   "cell_type": "code",
   "execution_count": 16,
   "metadata": {},
   "outputs": [],
   "source": [
    "write_all_songs_to_file(song_ids)"
   ]
  },
  {
   "cell_type": "code",
   "execution_count": 19,
   "metadata": {},
   "outputs": [],
   "source": [
    "generate_shuffled_playlists(get_all_songs_from_file())"
   ]
  },
  {
   "cell_type": "code",
   "execution_count": null,
   "metadata": {},
   "outputs": [],
   "source": []
  }
 ],
 "metadata": {
  "kernelspec": {
   "display_name": "Python 3",
   "language": "python",
   "name": "python3"
  },
  "language_info": {
   "codemirror_mode": {
    "name": "ipython",
    "version": 3
   },
   "file_extension": ".py",
   "mimetype": "text/x-python",
   "name": "python",
   "nbconvert_exporter": "python",
   "pygments_lexer": "ipython3",
   "version": "3.6.8"
  }
 },
 "nbformat": 4,
 "nbformat_minor": 4
}
